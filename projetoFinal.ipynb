{
 "cells": [
  {
   "cell_type": "markdown",
   "id": "61b6ac7a-dcd6-421f-be77-6e5fabce7f9d",
   "metadata": {},
   "source": [
    "# Projeto Final - Machine Learning:\n",
    "#### Integrantes: \n",
    "    - Natália Queiroz Menezes Carreras\n",
    "    - Willian Kenzo Asanuma Lee\n",
    "#### Database: https://www.kaggle.com/datasets/mehmettahiraslan/customer-shopping-dataset"
   ]
  },
  {
   "cell_type": "markdown",
   "id": "e84bcbdd-fd73-49bf-ad3b-493d3b17bc97",
   "metadata": {
    "tags": []
   },
   "source": [
    "#### Bibliotecas necessárias:"
   ]
  },
  {
   "cell_type": "code",
   "execution_count": 1,
   "id": "ca2666f6-637b-4753-9258-7cc717bf852e",
   "metadata": {},
   "outputs": [],
   "source": [
    "import pandas as pd\n",
    "import matplotlib.pyplot as plt\n",
    "import pathlib\n",
    "import pickle\n",
    "import numpy as np\n",
    "import seaborn as sns\n",
    "\n",
    "from sklearn.model_selection import train_test_split\n",
    "from sklearn.metrics import mean_squared_error\n",
    "from sklearn.linear_model import LinearRegression"
   ]
  },
  {
   "cell_type": "markdown",
   "id": "4f917552-d426-4f78-8089-0540bafbf1d6",
   "metadata": {},
   "source": [
    "#### Importando o Dataset:"
   ]
  },
  {
   "cell_type": "code",
   "execution_count": 2,
   "id": "65bf461a-8da1-4a42-a491-62c08d03f9e9",
   "metadata": {},
   "outputs": [
    {
     "name": "stdout",
     "output_type": "stream",
     "text": [
      "<class 'pandas.core.frame.DataFrame'>\n",
      "RangeIndex: 99457 entries, 0 to 99456\n",
      "Data columns (total 10 columns):\n",
      " #   Column          Non-Null Count  Dtype  \n",
      "---  ------          --------------  -----  \n",
      " 0   invoice_no      99457 non-null  object \n",
      " 1   customer_id     99457 non-null  object \n",
      " 2   gender          99457 non-null  object \n",
      " 3   age             99457 non-null  int64  \n",
      " 4   category        99457 non-null  object \n",
      " 5   quantity        99457 non-null  int64  \n",
      " 6   price           99457 non-null  float64\n",
      " 7   payment_method  99457 non-null  object \n",
      " 8   invoice_date    99457 non-null  object \n",
      " 9   shopping_mall   99457 non-null  object \n",
      "dtypes: float64(1), int64(2), object(7)\n",
      "memory usage: 7.6+ MB\n"
     ]
    }
   ],
   "source": [
    "filename = pathlib.Path.cwd()/'customer_shopping_data.csv'\n",
    "data = pd.read_csv(filename)\n",
    "data.info()"
   ]
  },
  {
   "cell_type": "markdown",
   "id": "49258260-918f-47c1-92a2-08c9a64ba6bd",
   "metadata": {},
   "source": [
    "#### Analisando o dataset:"
   ]
  },
  {
   "cell_type": "markdown",
   "id": "d55bed22-e950-46c3-8aad-2dcdc35716f0",
   "metadata": {},
   "source": [
    "##### Category:"
   ]
  },
  {
   "cell_type": "code",
   "execution_count": 5,
   "id": "0146324a-8256-4271-90fc-db2472a020b4",
   "metadata": {},
   "outputs": [
    {
     "data": {
      "text/plain": [
       "Clothing           34487\n",
       "Cosmetics          15097\n",
       "Food & Beverage    14776\n",
       "Toys               10087\n",
       "Shoes              10034\n",
       "Souvenir            4999\n",
       "Technology          4996\n",
       "Books               4981\n",
       "Name: category, dtype: int64"
      ]
     },
     "execution_count": 5,
     "metadata": {},
     "output_type": "execute_result"
    }
   ],
   "source": [
    "data['category'] = data['category'].astype('category')\n",
    "data['category'].value_counts()"
   ]
  },
  {
   "cell_type": "markdown",
   "id": "e48be0d4-5a55-4bb9-bdeb-0fd4b7865a64",
   "metadata": {},
   "source": [
    "##### Gender:"
   ]
  },
  {
   "cell_type": "code",
   "execution_count": 6,
   "id": "50ecb921-d452-4d4c-b07d-49da0d606e9f",
   "metadata": {},
   "outputs": [
    {
     "data": {
      "text/plain": [
       "Female    59482\n",
       "Male      39975\n",
       "Name: gender, dtype: int64"
      ]
     },
     "execution_count": 6,
     "metadata": {},
     "output_type": "execute_result"
    }
   ],
   "source": [
    "data['gender'] = data['gender'].astype('category')\n",
    "data['gender'].value_counts()"
   ]
  },
  {
   "cell_type": "markdown",
   "id": "e3c0a366-41a7-40ee-b611-8f967852ec5b",
   "metadata": {},
   "source": [
    "##### Payment method:"
   ]
  },
  {
   "cell_type": "code",
   "execution_count": 8,
   "id": "2100311d-a522-4ca5-bd2c-d37279ccd578",
   "metadata": {},
   "outputs": [
    {
     "data": {
      "text/plain": [
       "Cash           44447\n",
       "Credit Card    34931\n",
       "Debit Card     20079\n",
       "Name: payment_method, dtype: int64"
      ]
     },
     "execution_count": 8,
     "metadata": {},
     "output_type": "execute_result"
    }
   ],
   "source": [
    "data['payment_method'] = data['payment_method'].astype('category')\n",
    "data['payment_method'].value_counts()"
   ]
  },
  {
   "cell_type": "markdown",
   "id": "00a71b3a-5f76-4e84-bcb5-a6720e4f5a7e",
   "metadata": {},
   "source": [
    "##### Shopping mall:"
   ]
  },
  {
   "cell_type": "code",
   "execution_count": 9,
   "id": "3257d352-b1f2-407a-84dc-513d9d835f4a",
   "metadata": {},
   "outputs": [
    {
     "data": {
      "text/plain": [
       "Mall of Istanbul     19943\n",
       "Kanyon               19823\n",
       "Metrocity            15011\n",
       "Metropol AVM         10161\n",
       "Istinye Park          9781\n",
       "Zorlu Center          5075\n",
       "Cevahir AVM           4991\n",
       "Forum Istanbul        4947\n",
       "Viaport Outlet        4914\n",
       "Emaar Square Mall     4811\n",
       "Name: shopping_mall, dtype: int64"
      ]
     },
     "execution_count": 9,
     "metadata": {},
     "output_type": "execute_result"
    }
   ],
   "source": [
    "data['shopping_mall'] = data['shopping_mall'].astype('category')\n",
    "data['shopping_mall'].value_counts()"
   ]
  },
  {
   "cell_type": "markdown",
   "id": "0650f15b-c9e2-48f3-a469-b72024956a62",
   "metadata": {},
   "source": [
    "##### Age, quantity and price:"
   ]
  },
  {
   "cell_type": "code",
   "execution_count": 10,
   "id": "dccaf49a-d72d-4f5e-a56b-da230474aaf8",
   "metadata": {},
   "outputs": [
    {
     "data": {
      "text/html": [
       "<div>\n",
       "<style scoped>\n",
       "    .dataframe tbody tr th:only-of-type {\n",
       "        vertical-align: middle;\n",
       "    }\n",
       "\n",
       "    .dataframe tbody tr th {\n",
       "        vertical-align: top;\n",
       "    }\n",
       "\n",
       "    .dataframe thead th {\n",
       "        text-align: right;\n",
       "    }\n",
       "</style>\n",
       "<table border=\"1\" class=\"dataframe\">\n",
       "  <thead>\n",
       "    <tr style=\"text-align: right;\">\n",
       "      <th></th>\n",
       "      <th>count</th>\n",
       "      <th>mean</th>\n",
       "      <th>std</th>\n",
       "      <th>min</th>\n",
       "      <th>25%</th>\n",
       "      <th>50%</th>\n",
       "      <th>75%</th>\n",
       "      <th>max</th>\n",
       "    </tr>\n",
       "  </thead>\n",
       "  <tbody>\n",
       "    <tr>\n",
       "      <th>age</th>\n",
       "      <td>99457.0</td>\n",
       "      <td>43.427089</td>\n",
       "      <td>14.990054</td>\n",
       "      <td>18.00</td>\n",
       "      <td>30.00</td>\n",
       "      <td>43.0</td>\n",
       "      <td>56.00</td>\n",
       "      <td>69.0</td>\n",
       "    </tr>\n",
       "    <tr>\n",
       "      <th>quantity</th>\n",
       "      <td>99457.0</td>\n",
       "      <td>3.003429</td>\n",
       "      <td>1.413025</td>\n",
       "      <td>1.00</td>\n",
       "      <td>2.00</td>\n",
       "      <td>3.0</td>\n",
       "      <td>4.00</td>\n",
       "      <td>5.0</td>\n",
       "    </tr>\n",
       "    <tr>\n",
       "      <th>price</th>\n",
       "      <td>99457.0</td>\n",
       "      <td>689.256321</td>\n",
       "      <td>941.184567</td>\n",
       "      <td>5.23</td>\n",
       "      <td>45.45</td>\n",
       "      <td>203.3</td>\n",
       "      <td>1200.32</td>\n",
       "      <td>5250.0</td>\n",
       "    </tr>\n",
       "  </tbody>\n",
       "</table>\n",
       "</div>"
      ],
      "text/plain": [
       "            count        mean         std    min    25%    50%      75%  \\\n",
       "age       99457.0   43.427089   14.990054  18.00  30.00   43.0    56.00   \n",
       "quantity  99457.0    3.003429    1.413025   1.00   2.00    3.0     4.00   \n",
       "price     99457.0  689.256321  941.184567   5.23  45.45  203.3  1200.32   \n",
       "\n",
       "             max  \n",
       "age         69.0  \n",
       "quantity     5.0  \n",
       "price     5250.0  "
      ]
     },
     "execution_count": 10,
     "metadata": {},
     "output_type": "execute_result"
    }
   ],
   "source": [
    "data.select_dtypes('number').describe().transpose()"
   ]
  },
  {
   "cell_type": "markdown",
   "id": "f4eb4fb8-a70b-4503-9ce9-1613317688fd",
   "metadata": {},
   "source": [
    "#### Separando as variáveis em contínuas e categoricas:"
   ]
  },
  {
   "cell_type": "code",
   "execution_count": 18,
   "id": "554f92f4-0cc6-4845-954a-a0fe0a3e8614",
   "metadata": {},
   "outputs": [],
   "source": [
    "categorical_variables = [\n",
    "    'gender',\n",
    "]\n",
    "continuous_variables = [\n",
    "    'age',\n",
    "]"
   ]
  },
  {
   "cell_type": "code",
   "execution_count": 17,
   "id": "5203a8a9-5758-42a8-afc8-c0053775671b",
   "metadata": {},
   "outputs": [
    {
     "data": {
      "image/png": "[encoded data removed]",
      "text/plain": [
       "<Figure size 640x480 with 1 Axes>"
      ]
     },
     "metadata": {},
     "output_type": "display_data"
    }
   ],
   "source": [
    "def plot_categoricals(data, cols, sorted=True):\n",
    "    summary = data[cols].describe().transpose().sort_values(by='count')\n",
    "    \n",
    "    for k, (col, val) in enumerate(summary['count'].items()):\n",
    "        plt.figure()\n",
    "        ser = data[col].value_counts()\n",
    "        if sorted:\n",
    "            ser = ser.sort_values()\n",
    "        else:\n",
    "            ser = ser.sort_index()\n",
    "        ax = ser.plot.barh()\n",
    "        for container in ax.containers:\n",
    "            ax.bar_label(container)\n",
    "        plt.title(f'{col}, n={int(val)}')\n",
    "        plt.grid()\n",
    "        plt.show()\n",
    "plot_categoricals(data, categorical_variables)"
   ]
  },
  {
   "cell_type": "code",
   "execution_count": null,
   "id": "518495cd-250e-4599-b1a9-f3d0d829f80d",
   "metadata": {},
   "outputs": [],
   "source": []
  }
 ],
 "metadata": {
  "kernelspec": {
   "display_name": "Python 3 (ipykernel)",
   "language": "python",
   "name": "python3"
  },
  "language_info": {
   "codemirror_mode": {
    "name": "ipython",
    "version": 3
   },
   "file_extension": ".py",
   "mimetype": "text/x-python",
   "name": "python",
   "nbconvert_exporter": "python",
   "pygments_lexer": "ipython3",
   "version": "3.9.13"
  }
 },
 "nbformat": 4,
 "nbformat_minor": 5
}
