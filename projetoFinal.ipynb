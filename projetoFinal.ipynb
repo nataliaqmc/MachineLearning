{
 "cells": [
  {
   "cell_type": "markdown",
   "id": "61b6ac7a-dcd6-421f-be77-6e5fabce7f9d",
   "metadata": {},
   "source": [
    "# Projeto Final - Machine Learning:\n",
    "#### Integrantes: \n",
    "    - Natália Queiroz Menezes Carreras\n",
    "    - Willian Kenzo Asanuma Lee\n",
    "#### Database: https://www.kaggle.com/datasets/mehmettahiraslan/customer-shopping-dataset"
   ]
  },
  {
   "cell_type": "markdown",
   "id": "e84bcbdd-fd73-49bf-ad3b-493d3b17bc97",
   "metadata": {
    "tags": []
   },
   "source": [
    "#### Bibliotecas necessárias:"
   ]
  },
  {
   "cell_type": "code",
   "execution_count": 1,
   "id": "ca2666f6-637b-4753-9258-7cc717bf852e",
   "metadata": {},
   "outputs": [],
   "source": [
    "import pandas as pd\n",
    "import matplotlib.pyplot as plt\n",
    "import pathlib\n",
    "import pickle\n",
    "import numpy as np\n",
    "import seaborn as sns\n",
    "\n",
    "from sklearn.model_selection import train_test_split\n",
    "from sklearn.metrics import mean_squared_error\n",
    "from sklearn.linear_model import LinearRegression"
   ]
  },
  {
   "cell_type": "markdown",
   "id": "4f917552-d426-4f78-8089-0540bafbf1d6",
   "metadata": {
    "tags": []
   },
   "source": [
    "#### Importando o Dataset:"
   ]
  },
  {
   "cell_type": "code",
   "execution_count": 2,
   "id": "65bf461a-8da1-4a42-a491-62c08d03f9e9",
   "metadata": {},
   "outputs": [
    {
     "name": "stdout",
     "output_type": "stream",
     "text": [
      "<class 'pandas.core.frame.DataFrame'>\n",
      "RangeIndex: 99457 entries, 0 to 99456\n",
      "Data columns (total 10 columns):\n",
      " #   Column          Non-Null Count  Dtype  \n",
      "---  ------          --------------  -----  \n",
      " 0   invoice_no      99457 non-null  object \n",
      " 1   customer_id     99457 non-null  object \n",
      " 2   gender          99457 non-null  object \n",
      " 3   age             99457 non-null  int64  \n",
      " 4   category        99457 non-null  object \n",
      " 5   quantity        99457 non-null  int64  \n",
      " 6   price           99457 non-null  float64\n",
      " 7   payment_method  99457 non-null  object \n",
      " 8   invoice_date    99457 non-null  object \n",
      " 9   shopping_mall   99457 non-null  object \n",
      "dtypes: float64(1), int64(2), object(7)\n",
      "memory usage: 7.6+ MB\n"
     ]
    }
   ],
   "source": [
    "filename = pathlib.Path.cwd()/'customer_shopping_data.csv'\n",
    "data = pd.read_csv(filename)\n",
    "data.info()"
   ]
  },
  {
   "cell_type": "markdown",
   "id": "49258260-918f-47c1-92a2-08c9a64ba6bd",
   "metadata": {
    "jp-MarkdownHeadingCollapsed": true,
    "tags": []
   },
   "source": [
    "#### Analisando o dataset:"
   ]
  },
  {
   "cell_type": "markdown",
   "id": "d55bed22-e950-46c3-8aad-2dcdc35716f0",
   "metadata": {},
   "source": [
    "##### Category:"
   ]
  },
  {
   "cell_type": "code",
   "execution_count": null,
   "id": "0146324a-8256-4271-90fc-db2472a020b4",
   "metadata": {},
   "outputs": [],
   "source": [
    "data['category'] = data['category'].astype('category')\n",
    "data['category'].value_counts()"
   ]
  },
  {
   "cell_type": "code",
   "execution_count": null,
   "id": "36563989-ea99-4e05-84d4-7b7f4ef87a90",
   "metadata": {},
   "outputs": [],
   "source": [
    "labels = ['Clothing','Cosmetics','Food & Beverage','Toys','Shoes','Souvenir','Technology','Books']\n",
    "sizes = [data['category'].value_counts()[0],data['category'].value_counts()[1],data['category'].value_counts()[2],data['category'].value_counts()[3],data['category'].value_counts()[4],data['category'].value_counts()[5],data['category'].value_counts()[6],data['category'].value_counts()[7]]\n",
    "colors=['#fbf8cc','#fde4cf','#ffcfd2','#f1c0e8','#cfbaf0','#a3c4f3','#90dbf4','#8eecf5','#98f5e1','#b9fbc0']\n",
    "fig1, ax1 = plt.subplots()\n",
    "ax1.pie(sizes, labels=labels, autopct='%1.2f%%',\n",
    "        startangle=90, colors=colors)\n",
    "ax1.axis('equal')\n",
    "plt.show()"
   ]
  },
  {
   "cell_type": "markdown",
   "id": "e48be0d4-5a55-4bb9-bdeb-0fd4b7865a64",
   "metadata": {},
   "source": [
    "##### Gender:"
   ]
  },
  {
   "cell_type": "code",
   "execution_count": null,
   "id": "50ecb921-d452-4d4c-b07d-49da0d606e9f",
   "metadata": {},
   "outputs": [],
   "source": [
    "data['gender'] = data['gender'].astype('category')\n",
    "data['gender'].value_counts()"
   ]
  },
  {
   "cell_type": "code",
   "execution_count": null,
   "id": "5cd5dfdb-c76a-489e-ac57-ef6cbb16723e",
   "metadata": {},
   "outputs": [],
   "source": [
    "fig = plt.figure()\n",
    "ax = fig.add_axes([0,0,0.5,1])\n",
    "titles = ['Female', 'Male']\n",
    "qnt = [data['gender'].value_counts()[0],data['gender'].value_counts()[1]]\n",
    "ax.bar(titles,qnt, color=['#F4796B','#A9DEF9'], width=0.5)\n",
    "ax.set_facecolor(\"black\")\n",
    "plt.grid(axis = 'y')\n",
    "plt.title('Genders')\n",
    "plt.show()\n"
   ]
  },
  {
   "cell_type": "markdown",
   "id": "e3c0a366-41a7-40ee-b611-8f967852ec5b",
   "metadata": {},
   "source": [
    "##### Payment method:"
   ]
  },
  {
   "cell_type": "code",
   "execution_count": null,
   "id": "2100311d-a522-4ca5-bd2c-d37279ccd578",
   "metadata": {},
   "outputs": [],
   "source": [
    "data['payment_method'] = data['payment_method'].astype('category')\n",
    "data['payment_method'].value_counts()"
   ]
  },
  {
   "cell_type": "code",
   "execution_count": null,
   "id": "734eefff-5d06-43b4-ac94-833de307556a",
   "metadata": {},
   "outputs": [],
   "source": [
    "labels = 'Cash', 'Credit Card', 'Debit Card'\n",
    "sizes = [data['payment_method'].value_counts()[0],data['payment_method'].value_counts()[1],data['payment_method'].value_counts()[2]]\n",
    "colors = ['#F4796B','#A9DEF9','#DDFCAD']\n",
    "fig1, ax1 = plt.subplots()\n",
    "ax1.pie(sizes, labels=labels, autopct='%1.1f%%',\n",
    "        startangle=90, colors=colors)\n",
    "ax1.axis('equal')\n",
    "plt.show()"
   ]
  },
  {
   "cell_type": "markdown",
   "id": "00a71b3a-5f76-4e84-bcb5-a6720e4f5a7e",
   "metadata": {},
   "source": [
    "##### Shopping mall:"
   ]
  },
  {
   "cell_type": "code",
   "execution_count": null,
   "id": "3257d352-b1f2-407a-84dc-513d9d835f4a",
   "metadata": {},
   "outputs": [],
   "source": [
    "data['shopping_mall'] = data['shopping_mall'].astype('category')\n",
    "data['shopping_mall'].value_counts()"
   ]
  },
  {
   "cell_type": "code",
   "execution_count": null,
   "id": "299cf6c6-1fb7-4e83-aa81-af67afecf5f3",
   "metadata": {},
   "outputs": [],
   "source": [
    "fig = plt.figure()\n",
    "ax = fig.add_axes([0,0,2,1])\n",
    "colors=['#fbf8cc','#fde4cf','#ffcfd2','#f1c0e8','#cfbaf0','#a3c4f3','#90dbf4','#8eecf5','#98f5e1','#b9fbc0']\n",
    "titles = ['Mall of Istanbul', 'Kanyon','Metrocity','Metropol AVM','Istinye Park','Zorlu Center','Cevahir AVM','Forum Istanbul','Viaport Outlet','Emaar Square Mall']\n",
    "qnt = [data['shopping_mall'].value_counts()[0],data['shopping_mall'].value_counts()[1],data['shopping_mall'].value_counts()[2],data['shopping_mall'].value_counts()[3],data['shopping_mall'].value_counts()[4],data['shopping_mall'].value_counts()[5],data['shopping_mall'].value_counts()[6],data['shopping_mall'].value_counts()[7],data['shopping_mall'].value_counts()[8],data['shopping_mall'].value_counts()[9]]\n",
    "ax.bar(titles,qnt, color=colors, width=0.5)\n",
    "ax.set_facecolor(\"black\")\n",
    "plt.grid(axis = 'y')\n",
    "plt.title('Shopping Mall')\n",
    "plt.show()"
   ]
  },
  {
   "cell_type": "markdown",
   "id": "0650f15b-c9e2-48f3-a469-b72024956a62",
   "metadata": {},
   "source": [
    "##### Age, quantity and price:"
   ]
  },
  {
   "cell_type": "code",
   "execution_count": null,
   "id": "dccaf49a-d72d-4f5e-a56b-da230474aaf8",
   "metadata": {},
   "outputs": [],
   "source": [
    "data.select_dtypes('number').describe().transpose()"
   ]
  },
  {
   "cell_type": "code",
   "execution_count": null,
   "id": "c115074a-71ed-4735-bfcc-41701884489b",
   "metadata": {},
   "outputs": [],
   "source": [
    "#under 20\n",
    "_0a19_, _20a29_,_30a39_,_40a49_,_50a59_,_60a69_,_70_ = 0,0,0,0,0,0,0\n",
    "\n",
    "x = data['age'].value_counts()\n",
    "x = np.random.normal(0, 10, 250)\n",
    "for value in range (len(data)):\n",
    "    if data['age'].get(value) < 20:\n",
    "        _0a19_ += 1\n",
    "    elif 20 <= (data['age'].get(value)) < 30:\n",
    "        _20a29_ += 1\n",
    "    elif 30 <= (data['age'].get(value)) < 40:\n",
    "        _30a39_ += 1\n",
    "    elif 40 <= (data['age'].get(value)) < 50:\n",
    "        _40a49_ += 1\n",
    "    elif 50 <= (data['age'].get(value)) < 60:\n",
    "        _50a59_ += 1\n",
    "    elif 60 <= (data['age'].get(value)) < 70:\n",
    "        _60a69_ += 1\n",
    "    else:\n",
    "        _70_ += 1\n",
    "        \n",
    "colors=['#fbf8cc','#fde4cf','#ffcfd2','#f1c0e8','#cfbaf0','#a3c4f3','#90dbf4','#8eecf5','#98f5e1','#b9fbc0']\n",
    "titles = ['0 a 19', '20 a 29','30 a 39','40 a 49','50 a 59','60 a 69','70+']\n",
    "qnt = [_0a19_, _20a29_,_30a39_,_40a49_,_50a59_,_60a69_,_70_]\n",
    "\n",
    "fig = plt.figure()\n",
    "ax = fig.add_axes([0,0,2,1])\n",
    "ax.bar(titles,qnt, color=colors, width=0.5)\n",
    "plt.grid(axis = 'y')\n",
    "ax.set_facecolor(\"black\")\n",
    "plt.title('Purchases by month')\n"
   ]
  },
  {
   "cell_type": "markdown",
   "id": "557550c0-d182-438f-8f3e-c0531d4b6398",
   "metadata": {},
   "source": [
    "##### Date:"
   ]
  },
  {
   "cell_type": "code",
   "execution_count": null,
   "id": "f4983ed1-d7c6-4e42-a361-5ed8aa92d266",
   "metadata": {},
   "outputs": [],
   "source": [
    "data['quantity'] = data['quantity'].astype('category')\n",
    "data['price'] = data['price'].astype('category')\n",
    "\n",
    "january,february,march,april,may,june,july,august,september,october,november,december = 0,0,0,0,0,0,0,0,0,0,0,0\n",
    "januaryAmount,februaryAmount,marchAmount,aprilAmount,mayAmount,juneAmount,julyAmount,augustAmount,septemberAmount,octoberAmount,novemberAmount,decemberAmount = 0,0,0,0,0,0,0,0,0,0,0,0\n",
    "for i in range (len(data)):\n",
    "    dado = data['invoice_date'].get(i)\n",
    "    dado = dado.split(\"/\")\n",
    "    if dado[1] == '1':\n",
    "        januaryAmount += data['price'].get(i)*data['quantity'].get(i)\n",
    "        january +=1\n",
    "    elif dado[1] == '2':\n",
    "        februaryAmount += data['price'].get(i)*data['quantity'].get(i)\n",
    "        february += 1\n",
    "    elif dado[1] == '3':\n",
    "        marchAmount += data['price'].get(i)*data['quantity'].get(i)\n",
    "        march +=1\n",
    "    elif dado[1] == '4':\n",
    "        aprilAmount += data['price'].get(i)*data['quantity'].get(i)\n",
    "        april +=1\n",
    "    elif dado[1] == '5':\n",
    "        mayAmount += data['price'].get(i)*data['quantity'].get(i)\n",
    "        may +=1\n",
    "    elif dado[1] == '6':\n",
    "        juneAmount += data['price'].get(i)*data['quantity'].get(i)\n",
    "        june +=1\n",
    "    elif dado[1] == '7':\n",
    "        julyAmount += data['price'].get(i)*data['quantity'].get(i)\n",
    "        july +=1\n",
    "    elif dado[1] == '8':\n",
    "        augustAmount += data['price'].get(i)*data['quantity'].get(i)\n",
    "        august +=1\n",
    "    elif dado[1] == '9':\n",
    "        septemberAmount += data['price'].get(i)*data['quantity'].get(i)\n",
    "        september +=1\n",
    "    elif dado[1] == '10':\n",
    "        octoberAmount += data['price'].get(i)*data['quantity'].get(i)\n",
    "        october +=1\n",
    "    elif dado[1] == '11':\n",
    "        novemberAmount += data['price'].get(i)*data['quantity'].get(i)\n",
    "        november +=1\n",
    "    elif dado[1] == '12':\n",
    "        decemberAmount +=data['price'].get(i)*data['quantity'].get(i)\n",
    "        december +=1\n",
    "\n",
    "\n",
    "\n",
    "colors=['#fbf8cc','#fde4cf','#ffcfd2','#f1c0e8','#cfbaf0','#a3c4f3','#90dbf4','#8eecf5','#98f5e1','#b9fbc0']\n",
    "titles = ['January', 'February','March','April','May','June','July','August','September','October', 'November','December']\n",
    "qnt = [january,february,march,april,may,june,july,august,september,october,november,december]\n",
    "qntAmount = [januaryAmount,februaryAmount,marchAmount,aprilAmount,mayAmount,juneAmount,julyAmount,augustAmount,septemberAmount,octoberAmount,novemberAmount,decemberAmount]\n",
    "\n",
    "fig = plt.figure()\n",
    "ax = fig.add_axes([0,0,2,1])\n",
    "ax.bar(titles,qnt, color=colors, width=0.5)\n",
    "plt.grid(axis = 'y')\n",
    "ax.set_facecolor(\"black\")\n",
    "plt.title('Purchases by month')\n",
    "\n",
    "\n",
    "fig2 = plt.figure()\n",
    "ax2 = fig2.add_axes([0,0,2,1])\n",
    "ax2.bar(titles,qntAmount, color=colors, width=0.5)\n",
    "ax2.set_facecolor(\"black\")\n",
    "plt.title('Amount gained on sales ($)')\n",
    "plt.grid(axis = 'y')\n",
    "\n",
    "plt.show()"
   ]
  },
  {
   "cell_type": "markdown",
   "id": "f4eb4fb8-a70b-4503-9ce9-1613317688fd",
   "metadata": {},
   "source": [
    "#### Treinando as variáveis:"
   ]
  },
  {
   "cell_type": "code",
   "execution_count": 3,
   "id": "5c47f0ed-fda5-4f15-ad31-357646b00f38",
   "metadata": {},
   "outputs": [],
   "source": [
    "ignore_variables = [\n",
    "    'customer_id',\n",
    "    'invoice_date',\n",
    "]\n",
    "categorical_variables = [\n",
    "    'gender',\n",
    "    'category',\n",
    "    'payment_method',\n",
    "    'shopping_mall',  \n",
    "]\n",
    "continuous_variables = [\n",
    "    'age',\n",
    "    'quantity',\n",
    "    'price'\n",
    "]\n",
    "discrete_variables = [\n",
    "\n",
    "]"
   ]
  },
  {
   "cell_type": "code",
   "execution_count": 5,
   "id": "b4fc5bbd-8736-4973-98ee-403180c7c30b",
   "metadata": {},
   "outputs": [],
   "source": [
    "dt= data.copy()\n",
    "dt.drop(columns=ignore_variables, inplace=True)"
   ]
  },
  {
   "cell_type": "code",
   "execution_count": 8,
   "id": "6f96461a-9f7a-4cad-a2ce-d61b6be04b1c",
   "metadata": {},
   "outputs": [],
   "source": [
    "for col in continuous_variables:\n",
    "    dt[col] = dt[col].astype('float64')\n",
    "for col in categorical_variables:\n",
    "    dt[col] = dt[col].astype('category')"
   ]
  },
  {
   "cell_type": "code",
   "execution_count": 9,
   "id": "314c5d56-cba5-44e3-88ff-cd2be49984d2",
   "metadata": {},
   "outputs": [
    {
     "data": {
      "text/html": [
       "<div>\n",
       "<style scoped>\n",
       "    .dataframe tbody tr th:only-of-type {\n",
       "        vertical-align: middle;\n",
       "    }\n",
       "\n",
       "    .dataframe tbody tr th {\n",
       "        vertical-align: top;\n",
       "    }\n",
       "\n",
       "    .dataframe thead th {\n",
       "        text-align: right;\n",
       "    }\n",
       "</style>\n",
       "<table border=\"1\" class=\"dataframe\">\n",
       "  <thead>\n",
       "    <tr style=\"text-align: right;\">\n",
       "      <th></th>\n",
       "      <th>count</th>\n",
       "      <th>unique</th>\n",
       "      <th>top</th>\n",
       "      <th>freq</th>\n",
       "    </tr>\n",
       "  </thead>\n",
       "  <tbody>\n",
       "    <tr>\n",
       "      <th>gender</th>\n",
       "      <td>99457</td>\n",
       "      <td>2</td>\n",
       "      <td>Female</td>\n",
       "      <td>59482</td>\n",
       "    </tr>\n",
       "    <tr>\n",
       "      <th>category</th>\n",
       "      <td>99457</td>\n",
       "      <td>8</td>\n",
       "      <td>Clothing</td>\n",
       "      <td>34487</td>\n",
       "    </tr>\n",
       "    <tr>\n",
       "      <th>payment_method</th>\n",
       "      <td>99457</td>\n",
       "      <td>3</td>\n",
       "      <td>Cash</td>\n",
       "      <td>44447</td>\n",
       "    </tr>\n",
       "    <tr>\n",
       "      <th>shopping_mall</th>\n",
       "      <td>99457</td>\n",
       "      <td>10</td>\n",
       "      <td>Mall of Istanbul</td>\n",
       "      <td>19943</td>\n",
       "    </tr>\n",
       "  </tbody>\n",
       "</table>\n",
       "</div>"
      ],
      "text/plain": [
       "                count unique               top   freq\n",
       "gender          99457      2            Female  59482\n",
       "category        99457      8          Clothing  34487\n",
       "payment_method  99457      3              Cash  44447\n",
       "shopping_mall   99457     10  Mall of Istanbul  19943"
      ]
     },
     "execution_count": 9,
     "metadata": {},
     "output_type": "execute_result"
    }
   ],
   "source": [
    "dt \\\n",
    "    .select_dtypes('category') \\\n",
    "    .describe() \\\n",
    "    .transpose() \\\n",
    "    .sort_values(by='count', ascending=True)"
   ]
  },
  {
   "cell_type": "code",
   "execution_count": 10,
   "id": "32517829-f434-46a9-be06-19fb918a927a",
   "metadata": {},
   "outputs": [
    {
     "data": {
      "text/html": [
       "<div>\n",
       "<style scoped>\n",
       "    .dataframe tbody tr th:only-of-type {\n",
       "        vertical-align: middle;\n",
       "    }\n",
       "\n",
       "    .dataframe tbody tr th {\n",
       "        vertical-align: top;\n",
       "    }\n",
       "\n",
       "    .dataframe thead th {\n",
       "        text-align: right;\n",
       "    }\n",
       "</style>\n",
       "<table border=\"1\" class=\"dataframe\">\n",
       "  <thead>\n",
       "    <tr style=\"text-align: right;\">\n",
       "      <th></th>\n",
       "      <th>count</th>\n",
       "      <th>mean</th>\n",
       "      <th>std</th>\n",
       "      <th>min</th>\n",
       "      <th>25%</th>\n",
       "      <th>50%</th>\n",
       "      <th>75%</th>\n",
       "      <th>max</th>\n",
       "    </tr>\n",
       "  </thead>\n",
       "  <tbody>\n",
       "    <tr>\n",
       "      <th>age</th>\n",
       "      <td>99457.0</td>\n",
       "      <td>43.427089</td>\n",
       "      <td>14.990054</td>\n",
       "      <td>18.00</td>\n",
       "      <td>30.00</td>\n",
       "      <td>43.0</td>\n",
       "      <td>56.00</td>\n",
       "      <td>69.0</td>\n",
       "    </tr>\n",
       "    <tr>\n",
       "      <th>quantity</th>\n",
       "      <td>99457.0</td>\n",
       "      <td>3.003429</td>\n",
       "      <td>1.413025</td>\n",
       "      <td>1.00</td>\n",
       "      <td>2.00</td>\n",
       "      <td>3.0</td>\n",
       "      <td>4.00</td>\n",
       "      <td>5.0</td>\n",
       "    </tr>\n",
       "    <tr>\n",
       "      <th>price</th>\n",
       "      <td>99457.0</td>\n",
       "      <td>689.256321</td>\n",
       "      <td>941.184567</td>\n",
       "      <td>5.23</td>\n",
       "      <td>45.45</td>\n",
       "      <td>203.3</td>\n",
       "      <td>1200.32</td>\n",
       "      <td>5250.0</td>\n",
       "    </tr>\n",
       "  </tbody>\n",
       "</table>\n",
       "</div>"
      ],
      "text/plain": [
       "            count        mean         std    min    25%    50%      75%  \\\n",
       "age       99457.0   43.427089   14.990054  18.00  30.00   43.0    56.00   \n",
       "quantity  99457.0    3.003429    1.413025   1.00   2.00    3.0     4.00   \n",
       "price     99457.0  689.256321  941.184567   5.23  45.45  203.3  1200.32   \n",
       "\n",
       "             max  \n",
       "age         69.0  \n",
       "quantity     5.0  \n",
       "price     5250.0  "
      ]
     },
     "execution_count": 10,
     "metadata": {},
     "output_type": "execute_result"
    }
   ],
   "source": [
    "dt \\\n",
    "    .select_dtypes('number') \\\n",
    "    .describe() \\\n",
    "    .transpose() \\\n",
    "    .sort_values(by='count', ascending=True)"
   ]
  },
  {
   "cell_type": "code",
   "execution_count": null,
   "id": "6af3bb64-6e59-439e-a2ee-cc4f4918734d",
   "metadata": {},
   "outputs": [],
   "source": []
  },
  {
   "cell_type": "code",
   "execution_count": 11,
   "id": "8f887c04-8e3a-48b8-87f4-523e26113192",
   "metadata": {},
   "outputs": [
    {
     "data": {
      "text/html": [
       "<div>\n",
       "<style scoped>\n",
       "    .dataframe tbody tr th:only-of-type {\n",
       "        vertical-align: middle;\n",
       "    }\n",
       "\n",
       "    .dataframe tbody tr th {\n",
       "        vertical-align: top;\n",
       "    }\n",
       "\n",
       "    .dataframe thead th {\n",
       "        text-align: right;\n",
       "    }\n",
       "</style>\n",
       "<table border=\"1\" class=\"dataframe\">\n",
       "  <thead>\n",
       "    <tr style=\"text-align: right;\">\n",
       "      <th></th>\n",
       "      <th>count</th>\n",
       "      <th>unique</th>\n",
       "      <th>top</th>\n",
       "      <th>freq</th>\n",
       "    </tr>\n",
       "  </thead>\n",
       "  <tbody>\n",
       "    <tr>\n",
       "      <th>gender</th>\n",
       "      <td>99457</td>\n",
       "      <td>2</td>\n",
       "      <td>Female</td>\n",
       "      <td>59482</td>\n",
       "    </tr>\n",
       "    <tr>\n",
       "      <th>category</th>\n",
       "      <td>99457</td>\n",
       "      <td>8</td>\n",
       "      <td>Clothing</td>\n",
       "      <td>34487</td>\n",
       "    </tr>\n",
       "    <tr>\n",
       "      <th>payment_method</th>\n",
       "      <td>99457</td>\n",
       "      <td>3</td>\n",
       "      <td>Cash</td>\n",
       "      <td>44447</td>\n",
       "    </tr>\n",
       "    <tr>\n",
       "      <th>shopping_mall</th>\n",
       "      <td>99457</td>\n",
       "      <td>10</td>\n",
       "      <td>Mall of Istanbul</td>\n",
       "      <td>19943</td>\n",
       "    </tr>\n",
       "  </tbody>\n",
       "</table>\n",
       "</div>"
      ],
      "text/plain": [
       "                count unique               top   freq\n",
       "gender          99457      2            Female  59482\n",
       "category        99457      8          Clothing  34487\n",
       "payment_method  99457      3              Cash  44447\n",
       "shopping_mall   99457     10  Mall of Istanbul  19943"
      ]
     },
     "execution_count": 11,
     "metadata": {},
     "output_type": "execute_result"
    }
   ],
   "source": [
    "summary = data[categorical_variables].describe().transpose().sort_values(by='count')\n",
    "summary"
   ]
  },
  {
   "cell_type": "code",
   "execution_count": null,
   "id": "dd671ac3-6253-414e-86da-2b9c56d2732d",
   "metadata": {},
   "outputs": [],
   "source": [
    "model_data = pd.get_dummies(data,drop_first=False)"
   ]
  },
  {
   "cell_type": "code",
   "execution_count": null,
   "id": "6637ca0d-c59d-4551-a44b-5f3fbba7330f",
   "metadata": {},
   "outputs": [],
   "source": []
  },
  {
   "cell_type": "code",
   "execution_count": null,
   "id": "518495cd-250e-4599-b1a9-f3d0d829f80d",
   "metadata": {},
   "outputs": [],
   "source": [
    "dt = data.copy()\n",
    "X = dt.drop(columns=['price','invoice_no','customer_id','gender']).copy().values\n",
    "y = dt['price'].copy().values\n"
   ]
  },
  {
   "cell_type": "code",
   "execution_count": null,
   "id": "567a381c-9358-4e4e-924c-558eaee2ccaa",
   "metadata": {},
   "outputs": [],
   "source": [
    "RANDOM_SEED = 33  # Any number here, really.\n",
    "Xtrain, Xtest, ytrain, ytest = train_test_split(\n",
    "    X,\n",
    "    y,\n",
    "    test_size=0.25,\n",
    "    random_state=RANDOM_SEED,\n",
    ")"
   ]
  },
  {
   "cell_type": "code",
   "execution_count": null,
   "id": "46847638-0d6d-4e21-8fd0-9c0c465b7128",
   "metadata": {},
   "outputs": [],
   "source": [
    "X.shape, Xtrain.shape, Xtest.shape"
   ]
  },
  {
   "cell_type": "code",
   "execution_count": null,
   "id": "b3f9db36-63c3-4857-b5a3-4ecfd9a3c3b8",
   "metadata": {},
   "outputs": [],
   "source": [
    "y.shape, ytrain.shape, ytest.shape"
   ]
  },
  {
   "cell_type": "code",
   "execution_count": null,
   "id": "7c0649a8-24e6-4e20-9243-a51ad5bd06b5",
   "metadata": {},
   "outputs": [],
   "source": [
    "model = LinearRegression()\n",
    "model.fit(Xtrain, ytrain)\n"
   ]
  },
  {
   "cell_type": "code",
   "execution_count": null,
   "id": "d8a372ec-c3ef-42c0-b5cc-58ae5b1782f3",
   "metadata": {},
   "outputs": [],
   "source": [
    "ypred = model.predict(Xtest)\n",
    "RMSE = np.sqrt(mean_squared_error(ytest, ypred))\n",
    "RMSE\n"
   ]
  }
 ],
 "metadata": {
  "kernelspec": {
   "display_name": "Python 3 (ipykernel)",
   "language": "python",
   "name": "python3"
  },
  "language_info": {
   "codemirror_mode": {
    "name": "ipython",
    "version": 3
   },
   "file_extension": ".py",
   "mimetype": "text/x-python",
   "name": "python",
   "nbconvert_exporter": "python",
   "pygments_lexer": "ipython3",
   "version": "3.9.13"
  }
 },
 "nbformat": 4,
 "nbformat_minor": 5
}
