{
 "cells": [
  {
   "cell_type": "markdown",
   "id": "61b6ac7a-dcd6-421f-be77-6e5fabce7f9d",
   "metadata": {},
   "source": [
    "# Projeto Final - Machine Learning:\n",
    "#### Integrantes: \n",
    "    - Natália Queiroz Menezes Carreras\n",
    "    - Willian Kenzo Asanuma Lee\n",
    "#### Database: https://www.kaggle.com/datasets/mehmettahiraslan/customer-shopping-dataset"
   ]
  },
  {
   "cell_type": "markdown",
   "id": "e84bcbdd-fd73-49bf-ad3b-493d3b17bc97",
   "metadata": {},
   "source": [
    "#### Bibliotecas necessárias:"
   ]
  },
  {
   "cell_type": "code",
   "execution_count": 2,
   "id": "ca2666f6-637b-4753-9258-7cc717bf852e",
   "metadata": {},
   "outputs": [],
   "source": [
    "import pandas as pd\n",
    "import matplotlib.pyplot as plt"
   ]
  },
  {
   "cell_type": "code",
   "execution_count": null,
   "id": "dc781221-e9c7-4cfe-956f-62e126fc339e",
   "metadata": {},
   "outputs": [],
   "source": []
  }
 ],
 "metadata": {
  "kernelspec": {
   "display_name": "Python 3 (ipykernel)",
   "language": "python",
   "name": "python3"
  },
  "language_info": {
   "codemirror_mode": {
    "name": "ipython",
    "version": 3
   },
   "file_extension": ".py",
   "mimetype": "text/x-python",
   "name": "python",
   "nbconvert_exporter": "python",
   "pygments_lexer": "ipython3",
   "version": "3.9.13"
  }
 },
 "nbformat": 4,
 "nbformat_minor": 5
}
