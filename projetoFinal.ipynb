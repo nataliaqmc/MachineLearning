{
 "cells": [
  {
   "attachments": {},
   "cell_type": "markdown",
   "id": "61b6ac7a-dcd6-421f-be77-6e5fabce7f9d",
   "metadata": {},
   "source": [
    "# Projeto Final - Machine Learning:\n",
    "#### Integrantes: \n",
    "    - Natália Queiroz Menezes Carreras\n",
    "    - Willian Kenzo Asanuma Lee\n"
   ]
  },
  {
   "attachments": {},
   "cell_type": "markdown",
   "id": "8dc6124c",
   "metadata": {},
   "source": [
    "### Introdução:\n",
    "\n",
    "O machine learning se tornou uma ótima maneira para as empresas obterem insights valiosos sobre o comportamento do consumidor, fazendo previsões sobre as vendas com base no momento do ano, na localização da loja e nas informações pessoais sobre seus clientes, como idade e gênero. Além disso, ao obter esses insights valiosos, as empresas serão capazes de criar e melhorar estratégias para otimizar seus lucros e despesas em todas as áreas de seus negócios. Levando isso em consideração, criamos um modelo capaz de prever quanto uma pessoa vai gastar com base em todas as informações coletadas.\n",
    "\n",
    "\n",
    "Para iniciar o treinamento do modelo, escolhemos um conjunto de dados chamado \"Customer Shopping Dataset - Retail Sales Data\" [1], que analisa o Mercado de Istambul. O conjunto de dados inclui número de fatura, ID do cliente, idade, gênero, método de pagamento, categoria do produto, quantidade, preço, data do pedido e localização do shopping em 10 shoppings diferentes entre 2021 e 2023.\n",
    "\n",
    "#### Database: https://www.kaggle.com/datasets/mehmettahiraslan/customer-shopping-dataset"
   ]
  },
  {
   "attachments": {},
   "cell_type": "markdown",
   "id": "e84bcbdd-fd73-49bf-ad3b-493d3b17bc97",
   "metadata": {
    "tags": []
   },
   "source": [
    "#### Bibliotecas necessárias:"
   ]
  },
  {
   "cell_type": "code",
   "execution_count": 506,
   "id": "ca2666f6-637b-4753-9258-7cc717bf852e",
   "metadata": {},
   "outputs": [],
   "source": [
    "import pandas as pd\n",
    "import matplotlib.pyplot as plt\n",
    "import pathlib\n",
    "import numpy as np\n",
    "import seaborn as sns\n",
    "\n",
    "\n",
    "from sklearn.model_selection import train_test_split\n",
    "from sklearn.metrics import r2_score,mean_absolute_error\n"
   ]
  },
  {
   "attachments": {},
   "cell_type": "markdown",
   "id": "4f917552-d426-4f78-8089-0540bafbf1d6",
   "metadata": {
    "tags": []
   },
   "source": [
    "#### Importando o Dataset:"
   ]
  },
  {
   "cell_type": "code",
   "execution_count": 507,
   "id": "65bf461a-8da1-4a42-a491-62c08d03f9e9",
   "metadata": {},
   "outputs": [],
   "source": [
    "filename = pathlib.Path.cwd()/'customer_shopping_data.csv'\n",
    "data = pd.read_csv(filename)"
   ]
  },
  {
   "cell_type": "code",
   "execution_count": 508,
   "id": "43e1877b",
   "metadata": {},
   "outputs": [
    {
     "data": {
      "text/html": [
       "<div>\n",
       "<style scoped>\n",
       "    .dataframe tbody tr th:only-of-type {\n",
       "        vertical-align: middle;\n",
       "    }\n",
       "\n",
       "    .dataframe tbody tr th {\n",
       "        vertical-align: top;\n",
       "    }\n",
       "\n",
       "    .dataframe thead th {\n",
       "        text-align: right;\n",
       "    }\n",
       "</style>\n",
       "<table border=\"1\" class=\"dataframe\">\n",
       "  <thead>\n",
       "    <tr style=\"text-align: right;\">\n",
       "      <th></th>\n",
       "      <th>invoice_no</th>\n",
       "      <th>customer_id</th>\n",
       "      <th>gender</th>\n",
       "      <th>age</th>\n",
       "      <th>category</th>\n",
       "      <th>quantity</th>\n",
       "      <th>price</th>\n",
       "      <th>payment_method</th>\n",
       "      <th>invoice_date</th>\n",
       "      <th>shopping_mall</th>\n",
       "    </tr>\n",
       "  </thead>\n",
       "  <tbody>\n",
       "    <tr>\n",
       "      <th>0</th>\n",
       "      <td>I138884</td>\n",
       "      <td>C241288</td>\n",
       "      <td>Female</td>\n",
       "      <td>28</td>\n",
       "      <td>Clothing</td>\n",
       "      <td>5</td>\n",
       "      <td>1500.40</td>\n",
       "      <td>Credit Card</td>\n",
       "      <td>5/8/2022</td>\n",
       "      <td>Kanyon</td>\n",
       "    </tr>\n",
       "    <tr>\n",
       "      <th>1</th>\n",
       "      <td>I317333</td>\n",
       "      <td>C111565</td>\n",
       "      <td>Male</td>\n",
       "      <td>21</td>\n",
       "      <td>Shoes</td>\n",
       "      <td>3</td>\n",
       "      <td>1800.51</td>\n",
       "      <td>Debit Card</td>\n",
       "      <td>12/12/2021</td>\n",
       "      <td>Forum Istanbul</td>\n",
       "    </tr>\n",
       "    <tr>\n",
       "      <th>2</th>\n",
       "      <td>I127801</td>\n",
       "      <td>C266599</td>\n",
       "      <td>Male</td>\n",
       "      <td>20</td>\n",
       "      <td>Clothing</td>\n",
       "      <td>1</td>\n",
       "      <td>300.08</td>\n",
       "      <td>Cash</td>\n",
       "      <td>9/11/2021</td>\n",
       "      <td>Metrocity</td>\n",
       "    </tr>\n",
       "    <tr>\n",
       "      <th>3</th>\n",
       "      <td>I173702</td>\n",
       "      <td>C988172</td>\n",
       "      <td>Female</td>\n",
       "      <td>66</td>\n",
       "      <td>Shoes</td>\n",
       "      <td>5</td>\n",
       "      <td>3000.85</td>\n",
       "      <td>Credit Card</td>\n",
       "      <td>16/05/2021</td>\n",
       "      <td>Metropol AVM</td>\n",
       "    </tr>\n",
       "    <tr>\n",
       "      <th>4</th>\n",
       "      <td>I337046</td>\n",
       "      <td>C189076</td>\n",
       "      <td>Female</td>\n",
       "      <td>53</td>\n",
       "      <td>Books</td>\n",
       "      <td>4</td>\n",
       "      <td>60.60</td>\n",
       "      <td>Cash</td>\n",
       "      <td>24/10/2021</td>\n",
       "      <td>Kanyon</td>\n",
       "    </tr>\n",
       "    <tr>\n",
       "      <th>...</th>\n",
       "      <td>...</td>\n",
       "      <td>...</td>\n",
       "      <td>...</td>\n",
       "      <td>...</td>\n",
       "      <td>...</td>\n",
       "      <td>...</td>\n",
       "      <td>...</td>\n",
       "      <td>...</td>\n",
       "      <td>...</td>\n",
       "      <td>...</td>\n",
       "    </tr>\n",
       "    <tr>\n",
       "      <th>99452</th>\n",
       "      <td>I219422</td>\n",
       "      <td>C441542</td>\n",
       "      <td>Female</td>\n",
       "      <td>45</td>\n",
       "      <td>Souvenir</td>\n",
       "      <td>5</td>\n",
       "      <td>58.65</td>\n",
       "      <td>Credit Card</td>\n",
       "      <td>21/09/2022</td>\n",
       "      <td>Kanyon</td>\n",
       "    </tr>\n",
       "    <tr>\n",
       "      <th>99453</th>\n",
       "      <td>I325143</td>\n",
       "      <td>C569580</td>\n",
       "      <td>Male</td>\n",
       "      <td>27</td>\n",
       "      <td>Food &amp; Beverage</td>\n",
       "      <td>2</td>\n",
       "      <td>10.46</td>\n",
       "      <td>Cash</td>\n",
       "      <td>22/09/2021</td>\n",
       "      <td>Forum Istanbul</td>\n",
       "    </tr>\n",
       "    <tr>\n",
       "      <th>99454</th>\n",
       "      <td>I824010</td>\n",
       "      <td>C103292</td>\n",
       "      <td>Male</td>\n",
       "      <td>63</td>\n",
       "      <td>Food &amp; Beverage</td>\n",
       "      <td>2</td>\n",
       "      <td>10.46</td>\n",
       "      <td>Debit Card</td>\n",
       "      <td>28/03/2021</td>\n",
       "      <td>Metrocity</td>\n",
       "    </tr>\n",
       "    <tr>\n",
       "      <th>99455</th>\n",
       "      <td>I702964</td>\n",
       "      <td>C800631</td>\n",
       "      <td>Male</td>\n",
       "      <td>56</td>\n",
       "      <td>Technology</td>\n",
       "      <td>4</td>\n",
       "      <td>4200.00</td>\n",
       "      <td>Cash</td>\n",
       "      <td>16/03/2021</td>\n",
       "      <td>Istinye Park</td>\n",
       "    </tr>\n",
       "    <tr>\n",
       "      <th>99456</th>\n",
       "      <td>I232867</td>\n",
       "      <td>C273973</td>\n",
       "      <td>Female</td>\n",
       "      <td>36</td>\n",
       "      <td>Souvenir</td>\n",
       "      <td>3</td>\n",
       "      <td>35.19</td>\n",
       "      <td>Credit Card</td>\n",
       "      <td>15/10/2022</td>\n",
       "      <td>Mall of Istanbul</td>\n",
       "    </tr>\n",
       "  </tbody>\n",
       "</table>\n",
       "<p>99457 rows × 10 columns</p>\n",
       "</div>"
      ],
      "text/plain": [
       "      invoice_no customer_id  gender  age         category  quantity    price  \\\n",
       "0        I138884     C241288  Female   28         Clothing         5  1500.40   \n",
       "1        I317333     C111565    Male   21            Shoes         3  1800.51   \n",
       "2        I127801     C266599    Male   20         Clothing         1   300.08   \n",
       "3        I173702     C988172  Female   66            Shoes         5  3000.85   \n",
       "4        I337046     C189076  Female   53            Books         4    60.60   \n",
       "...          ...         ...     ...  ...              ...       ...      ...   \n",
       "99452    I219422     C441542  Female   45         Souvenir         5    58.65   \n",
       "99453    I325143     C569580    Male   27  Food & Beverage         2    10.46   \n",
       "99454    I824010     C103292    Male   63  Food & Beverage         2    10.46   \n",
       "99455    I702964     C800631    Male   56       Technology         4  4200.00   \n",
       "99456    I232867     C273973  Female   36         Souvenir         3    35.19   \n",
       "\n",
       "      payment_method invoice_date     shopping_mall  \n",
       "0        Credit Card     5/8/2022            Kanyon  \n",
       "1         Debit Card   12/12/2021    Forum Istanbul  \n",
       "2               Cash    9/11/2021         Metrocity  \n",
       "3        Credit Card   16/05/2021      Metropol AVM  \n",
       "4               Cash   24/10/2021            Kanyon  \n",
       "...              ...          ...               ...  \n",
       "99452    Credit Card   21/09/2022            Kanyon  \n",
       "99453           Cash   22/09/2021    Forum Istanbul  \n",
       "99454     Debit Card   28/03/2021         Metrocity  \n",
       "99455           Cash   16/03/2021      Istinye Park  \n",
       "99456    Credit Card   15/10/2022  Mall of Istanbul  \n",
       "\n",
       "[99457 rows x 10 columns]"
      ]
     },
     "execution_count": 508,
     "metadata": {},
     "output_type": "execute_result"
    }
   ],
   "source": [
    "data"
   ]
  },
  {
   "attachments": {},
   "cell_type": "markdown",
   "id": "587459e7",
   "metadata": {},
   "source": [
    "Atributos: \n",
    "\n",
    "* invoice_no: código dado para cada operação realizada\n",
    "\n",
    "* customer_id: código dado para cada comprador \n",
    "\n",
    "* gener: gênero de cada usuário\n",
    "\n",
    "* age: idade de cada usuário\n",
    "\n",
    "* category: categoria da compra que realizou\n",
    "\n",
    "* quantity: quantidade de cada produto comprado\n",
    "\n",
    "* price: preço por unidade, em TL(turkish liras)\n",
    "\n",
    "* payment_method: método de pagamento\n",
    "\n",
    "* invoice_date: o dia que a transação aconteceu\n",
    "\n",
    "* shopping_mall: local da compra"
   ]
  },
  {
   "attachments": {},
   "cell_type": "markdown",
   "id": "49258260-918f-47c1-92a2-08c9a64ba6bd",
   "metadata": {
    "jp-MarkdownHeadingCollapsed": true,
    "tags": []
   },
   "source": [
    "#### Analisando o dataset:"
   ]
  },
  {
   "cell_type": "code",
   "execution_count": 509,
   "id": "c00efcbb",
   "metadata": {},
   "outputs": [
    {
     "data": {
      "text/plain": [
       "invoice_no        0\n",
       "customer_id       0\n",
       "gender            0\n",
       "age               0\n",
       "category          0\n",
       "quantity          0\n",
       "price             0\n",
       "payment_method    0\n",
       "invoice_date      0\n",
       "shopping_mall     0\n",
       "dtype: int64"
      ]
     },
     "execution_count": 509,
     "metadata": {},
     "output_type": "execute_result"
    }
   ],
   "source": [
    "data.isnull().sum()\n"
   ]
  },
  {
   "attachments": {},
   "cell_type": "markdown",
   "id": "2707087d",
   "metadata": {},
   "source": [
    "É importante checar se existe dados incompletos, o dataset que estamos utilizando está completo"
   ]
  },
  {
   "cell_type": "code",
   "execution_count": 510,
   "id": "31ebf960",
   "metadata": {},
   "outputs": [],
   "source": [
    "## criando coluno pagamento total\n",
    "data['Total_payment/TL'] = (data['quantity'] * data['price'])"
   ]
  },
  {
   "attachments": {},
   "cell_type": "markdown",
   "id": "75bce703",
   "metadata": {},
   "source": [
    "Analisando as categorias de nosso dataset, notamos que não existia o custo total que cada cliente gastava, apenas por unidade. É uma informação importante que precisamos utilizar."
   ]
  },
  {
   "cell_type": "code",
   "execution_count": 511,
   "id": "3e1379a6",
   "metadata": {},
   "outputs": [
    {
     "data": {
      "text/html": [
       "<div>\n",
       "<style scoped>\n",
       "    .dataframe tbody tr th:only-of-type {\n",
       "        vertical-align: middle;\n",
       "    }\n",
       "\n",
       "    .dataframe tbody tr th {\n",
       "        vertical-align: top;\n",
       "    }\n",
       "\n",
       "    .dataframe thead th {\n",
       "        text-align: right;\n",
       "    }\n",
       "</style>\n",
       "<table border=\"1\" class=\"dataframe\">\n",
       "  <thead>\n",
       "    <tr style=\"text-align: right;\">\n",
       "      <th></th>\n",
       "      <th>invoice_no</th>\n",
       "      <th>customer_id</th>\n",
       "      <th>gender</th>\n",
       "      <th>age</th>\n",
       "      <th>category</th>\n",
       "      <th>quantity</th>\n",
       "      <th>price</th>\n",
       "      <th>payment_method</th>\n",
       "      <th>invoice_date</th>\n",
       "      <th>shopping_mall</th>\n",
       "      <th>Total_payment/TL</th>\n",
       "    </tr>\n",
       "  </thead>\n",
       "  <tbody>\n",
       "    <tr>\n",
       "      <th>0</th>\n",
       "      <td>I138884</td>\n",
       "      <td>C241288</td>\n",
       "      <td>Female</td>\n",
       "      <td>28</td>\n",
       "      <td>Clothing</td>\n",
       "      <td>5</td>\n",
       "      <td>1500.40</td>\n",
       "      <td>Credit Card</td>\n",
       "      <td>5/8/2022</td>\n",
       "      <td>Kanyon</td>\n",
       "      <td>7502.00</td>\n",
       "    </tr>\n",
       "    <tr>\n",
       "      <th>1</th>\n",
       "      <td>I317333</td>\n",
       "      <td>C111565</td>\n",
       "      <td>Male</td>\n",
       "      <td>21</td>\n",
       "      <td>Shoes</td>\n",
       "      <td>3</td>\n",
       "      <td>1800.51</td>\n",
       "      <td>Debit Card</td>\n",
       "      <td>12/12/2021</td>\n",
       "      <td>Forum Istanbul</td>\n",
       "      <td>5401.53</td>\n",
       "    </tr>\n",
       "    <tr>\n",
       "      <th>2</th>\n",
       "      <td>I127801</td>\n",
       "      <td>C266599</td>\n",
       "      <td>Male</td>\n",
       "      <td>20</td>\n",
       "      <td>Clothing</td>\n",
       "      <td>1</td>\n",
       "      <td>300.08</td>\n",
       "      <td>Cash</td>\n",
       "      <td>9/11/2021</td>\n",
       "      <td>Metrocity</td>\n",
       "      <td>300.08</td>\n",
       "    </tr>\n",
       "    <tr>\n",
       "      <th>3</th>\n",
       "      <td>I173702</td>\n",
       "      <td>C988172</td>\n",
       "      <td>Female</td>\n",
       "      <td>66</td>\n",
       "      <td>Shoes</td>\n",
       "      <td>5</td>\n",
       "      <td>3000.85</td>\n",
       "      <td>Credit Card</td>\n",
       "      <td>16/05/2021</td>\n",
       "      <td>Metropol AVM</td>\n",
       "      <td>15004.25</td>\n",
       "    </tr>\n",
       "    <tr>\n",
       "      <th>4</th>\n",
       "      <td>I337046</td>\n",
       "      <td>C189076</td>\n",
       "      <td>Female</td>\n",
       "      <td>53</td>\n",
       "      <td>Books</td>\n",
       "      <td>4</td>\n",
       "      <td>60.60</td>\n",
       "      <td>Cash</td>\n",
       "      <td>24/10/2021</td>\n",
       "      <td>Kanyon</td>\n",
       "      <td>242.40</td>\n",
       "    </tr>\n",
       "    <tr>\n",
       "      <th>...</th>\n",
       "      <td>...</td>\n",
       "      <td>...</td>\n",
       "      <td>...</td>\n",
       "      <td>...</td>\n",
       "      <td>...</td>\n",
       "      <td>...</td>\n",
       "      <td>...</td>\n",
       "      <td>...</td>\n",
       "      <td>...</td>\n",
       "      <td>...</td>\n",
       "      <td>...</td>\n",
       "    </tr>\n",
       "    <tr>\n",
       "      <th>99452</th>\n",
       "      <td>I219422</td>\n",
       "      <td>C441542</td>\n",
       "      <td>Female</td>\n",
       "      <td>45</td>\n",
       "      <td>Souvenir</td>\n",
       "      <td>5</td>\n",
       "      <td>58.65</td>\n",
       "      <td>Credit Card</td>\n",
       "      <td>21/09/2022</td>\n",
       "      <td>Kanyon</td>\n",
       "      <td>293.25</td>\n",
       "    </tr>\n",
       "    <tr>\n",
       "      <th>99453</th>\n",
       "      <td>I325143</td>\n",
       "      <td>C569580</td>\n",
       "      <td>Male</td>\n",
       "      <td>27</td>\n",
       "      <td>Food &amp; Beverage</td>\n",
       "      <td>2</td>\n",
       "      <td>10.46</td>\n",
       "      <td>Cash</td>\n",
       "      <td>22/09/2021</td>\n",
       "      <td>Forum Istanbul</td>\n",
       "      <td>20.92</td>\n",
       "    </tr>\n",
       "    <tr>\n",
       "      <th>99454</th>\n",
       "      <td>I824010</td>\n",
       "      <td>C103292</td>\n",
       "      <td>Male</td>\n",
       "      <td>63</td>\n",
       "      <td>Food &amp; Beverage</td>\n",
       "      <td>2</td>\n",
       "      <td>10.46</td>\n",
       "      <td>Debit Card</td>\n",
       "      <td>28/03/2021</td>\n",
       "      <td>Metrocity</td>\n",
       "      <td>20.92</td>\n",
       "    </tr>\n",
       "    <tr>\n",
       "      <th>99455</th>\n",
       "      <td>I702964</td>\n",
       "      <td>C800631</td>\n",
       "      <td>Male</td>\n",
       "      <td>56</td>\n",
       "      <td>Technology</td>\n",
       "      <td>4</td>\n",
       "      <td>4200.00</td>\n",
       "      <td>Cash</td>\n",
       "      <td>16/03/2021</td>\n",
       "      <td>Istinye Park</td>\n",
       "      <td>16800.00</td>\n",
       "    </tr>\n",
       "    <tr>\n",
       "      <th>99456</th>\n",
       "      <td>I232867</td>\n",
       "      <td>C273973</td>\n",
       "      <td>Female</td>\n",
       "      <td>36</td>\n",
       "      <td>Souvenir</td>\n",
       "      <td>3</td>\n",
       "      <td>35.19</td>\n",
       "      <td>Credit Card</td>\n",
       "      <td>15/10/2022</td>\n",
       "      <td>Mall of Istanbul</td>\n",
       "      <td>105.57</td>\n",
       "    </tr>\n",
       "  </tbody>\n",
       "</table>\n",
       "<p>99457 rows × 11 columns</p>\n",
       "</div>"
      ],
      "text/plain": [
       "      invoice_no customer_id  gender  age         category  quantity    price  \\\n",
       "0        I138884     C241288  Female   28         Clothing         5  1500.40   \n",
       "1        I317333     C111565    Male   21            Shoes         3  1800.51   \n",
       "2        I127801     C266599    Male   20         Clothing         1   300.08   \n",
       "3        I173702     C988172  Female   66            Shoes         5  3000.85   \n",
       "4        I337046     C189076  Female   53            Books         4    60.60   \n",
       "...          ...         ...     ...  ...              ...       ...      ...   \n",
       "99452    I219422     C441542  Female   45         Souvenir         5    58.65   \n",
       "99453    I325143     C569580    Male   27  Food & Beverage         2    10.46   \n",
       "99454    I824010     C103292    Male   63  Food & Beverage         2    10.46   \n",
       "99455    I702964     C800631    Male   56       Technology         4  4200.00   \n",
       "99456    I232867     C273973  Female   36         Souvenir         3    35.19   \n",
       "\n",
       "      payment_method invoice_date     shopping_mall  Total_payment/TL  \n",
       "0        Credit Card     5/8/2022            Kanyon           7502.00  \n",
       "1         Debit Card   12/12/2021    Forum Istanbul           5401.53  \n",
       "2               Cash    9/11/2021         Metrocity            300.08  \n",
       "3        Credit Card   16/05/2021      Metropol AVM          15004.25  \n",
       "4               Cash   24/10/2021            Kanyon            242.40  \n",
       "...              ...          ...               ...               ...  \n",
       "99452    Credit Card   21/09/2022            Kanyon            293.25  \n",
       "99453           Cash   22/09/2021    Forum Istanbul             20.92  \n",
       "99454     Debit Card   28/03/2021         Metrocity             20.92  \n",
       "99455           Cash   16/03/2021      Istinye Park          16800.00  \n",
       "99456    Credit Card   15/10/2022  Mall of Istanbul            105.57  \n",
       "\n",
       "[99457 rows x 11 columns]"
      ]
     },
     "execution_count": 511,
     "metadata": {},
     "output_type": "execute_result"
    }
   ],
   "source": [
    "data"
   ]
  },
  {
   "cell_type": "code",
   "execution_count": 512,
   "id": "fb613d4c",
   "metadata": {},
   "outputs": [],
   "source": [
    "data['invoice_date'] = pd.to_datetime(data['invoice_date'], dayfirst= True)\n",
    "data['Day'] = data['invoice_date'].dt.day_name()\n",
    "data['Month'] = data['invoice_date'].dt.month_name()\n",
    "data['Year'] = data['invoice_date'].dt.year\n",
    "data['MonthNo'] = data['invoice_date'].dt.month"
   ]
  },
  {
   "attachments": {},
   "cell_type": "markdown",
   "id": "dbebc7a5",
   "metadata": {},
   "source": [
    "Outra coisa que precisamos fazer é transformar os valores unitários das idades em faixas para conseguirmos analisar se cada range de idade faz diferença o quanto gasta"
   ]
  },
  {
   "cell_type": "code",
   "execution_count": 513,
   "id": "3ce1bb13",
   "metadata": {},
   "outputs": [
    {
     "name": "stdout",
     "output_type": "stream",
     "text": [
      "idade minima:  18\n",
      "idade maxima:  69\n"
     ]
    }
   ],
   "source": [
    "print(\"idade minima: \", data['age'].min())\n",
    "print(\"idade maxima: \", data['age'].max())"
   ]
  },
  {
   "cell_type": "code",
   "execution_count": 514,
   "id": "0d10fa4e",
   "metadata": {},
   "outputs": [],
   "source": [
    "def age_group_(age):\n",
    "    if age <= 30:\n",
    "        age_group = '18-30'\n",
    "    elif age <= 42:\n",
    "        age_group = '31-42'\n",
    "    elif age <= 55:\n",
    "        age_group = '43-55'\n",
    "    else:\n",
    "        age_group = '55+'\n",
    "    return age_group"
   ]
  },
  {
   "cell_type": "code",
   "execution_count": 515,
   "id": "04486efc",
   "metadata": {},
   "outputs": [],
   "source": [
    "data['age_group'] = data['age'].apply(age_group_)"
   ]
  },
  {
   "cell_type": "code",
   "execution_count": 516,
   "id": "42ccd432",
   "metadata": {},
   "outputs": [
    {
     "data": {
      "text/plain": [
       "age_group\n",
       "18-30    25024\n",
       "31-42    23050\n",
       "43-55    24796\n",
       "55+      26587\n",
       "Name: age_group, dtype: int64"
      ]
     },
     "execution_count": 516,
     "metadata": {},
     "output_type": "execute_result"
    }
   ],
   "source": [
    "data['age_group'].groupby(data['age_group']).count()\n"
   ]
  },
  {
   "cell_type": "code",
   "execution_count": 517,
   "id": "e42b2af5",
   "metadata": {},
   "outputs": [
    {
     "data": {
      "text/plain": [
       "<AxesSubplot: xlabel='age_group', ylabel='Count'>"
      ]
     },
     "execution_count": 517,
     "metadata": {},
     "output_type": "execute_result"
    },
    {
     "data": {
      "image/png": "[encoded data removed]",
      "text/plain": [
       "<Figure size 432x288 with 1 Axes>"
      ]
     },
     "metadata": {
      "needs_background": "light"
     },
     "output_type": "display_data"
    }
   ],
   "source": [
    "sns.histplot(data['age_group'])"
   ]
  },
  {
   "attachments": {},
   "cell_type": "markdown",
   "id": "4ee640de",
   "metadata": {},
   "source": [
    "Podemos notar que a diferença de compras por idades não é muito grande, o que é estranho de se notar, pensando que pessoas mais jovens costumam comprar coisas mais online, entretanto como os dados utilizando são entre 2020 e 2022, talvez a pandemia tenha pesado nessa igualdade de compras"
   ]
  },
  {
   "attachments": {},
   "cell_type": "markdown",
   "id": "8a17c6b9",
   "metadata": {},
   "source": [
    "Também é interessante separarmos dias de semana e fim de semana para checarmos se existe diferença quanto cada consumidor gasta.\n"
   ]
  },
  {
   "cell_type": "code",
   "execution_count": 518,
   "id": "5f6ad46a",
   "metadata": {},
   "outputs": [],
   "source": [
    "data['dia_de_semana'] = data['Day'].apply(lambda x: 1 if x in ['Monday', 'Tuesday', 'Wednesday', 'Thursday', 'Friday'] else 0)"
   ]
  },
  {
   "cell_type": "code",
   "execution_count": 519,
   "id": "14594115",
   "metadata": {},
   "outputs": [
    {
     "data": {
      "text/plain": [
       "dia_de_semana\n",
       "0    28261\n",
       "1    71196\n",
       "Name: dia_de_semana, dtype: int64"
      ]
     },
     "execution_count": 519,
     "metadata": {},
     "output_type": "execute_result"
    }
   ],
   "source": [
    "data['dia_de_semana'].groupby(data['dia_de_semana']).count()"
   ]
  },
  {
   "attachments": {},
   "cell_type": "markdown",
   "id": "ea0bed3e",
   "metadata": {},
   "source": [
    "Nota-se que acontecem mais compras durante a semana, talvez um motivo seja a quantidade de dias, mas é importante analisar se o perfil de compras muda durante a semana e o fim de semana, talvez compras maiores sejam mais frequentes durante o fim de semana quando pessoas tem mais tempo livre ou se durante a semana o gasto é majoritamente de comida, como almoço e janta por causa do trabalho"
   ]
  },
  {
   "cell_type": "code",
   "execution_count": 520,
   "id": "f3dd77bd",
   "metadata": {},
   "outputs": [],
   "source": [
    "semana = data.loc[data['dia_de_semana'] == 1]\n",
    "fim_de_semana =  data.loc[data['dia_de_semana'] == 0]"
   ]
  },
  {
   "cell_type": "code",
   "execution_count": 521,
   "id": "3f08b0dd",
   "metadata": {},
   "outputs": [
    {
     "name": "stdout",
     "output_type": "stream",
     "text": [
      "Média de pagamento durante a semana:  2537.177298162818\n",
      "Média de pagamento durante o fim de semana:  2507.6578794097873\n",
      "Diferença de gastos:  29.51941875303055\n"
     ]
    }
   ],
   "source": [
    "mean_payment_semana = semana['Total_payment/TL'].mean()\n",
    "mean_payment_fim_de_semana = fim_de_semana['Total_payment/TL'].mean()\n",
    "diferenca_gastos = mean_payment_semana - mean_payment_fim_de_semana\n",
    "\n",
    "print('Média de pagamento durante a semana: ', mean_payment_semana)\n",
    "print('Média de pagamento durante o fim de semana: ', mean_payment_fim_de_semana)\n",
    "print('Diferença de gastos: ', diferenca_gastos)\n"
   ]
  },
  {
   "attachments": {},
   "cell_type": "markdown",
   "id": "c0ecf017",
   "metadata": {},
   "source": [
    "Nota-se que a média de gastos é basicamente a mesma, com uma diferença de apenas 29.5 liras o que é aproximadamente 6 reais. Com isso iremos assumir que não existe real diferença entre gastos durante a semana e fim de semana"
   ]
  },
  {
   "attachments": {},
   "cell_type": "markdown",
   "id": "d55bed22-e950-46c3-8aad-2dcdc35716f0",
   "metadata": {},
   "source": [
    "##### Category:"
   ]
  },
  {
   "cell_type": "code",
   "execution_count": 522,
   "id": "b5142cb6",
   "metadata": {},
   "outputs": [
    {
     "data": {
      "text/plain": [
       "Clothing           34487\n",
       "Cosmetics          15097\n",
       "Food & Beverage    14776\n",
       "Toys               10087\n",
       "Shoes              10034\n",
       "Souvenir            4999\n",
       "Technology          4996\n",
       "Books               4981\n",
       "Name: category, dtype: int64"
      ]
     },
     "execution_count": 522,
     "metadata": {},
     "output_type": "execute_result"
    }
   ],
   "source": [
    "data['category'] = data['category'].astype('category')\n",
    "data['category'].value_counts()"
   ]
  },
  {
   "cell_type": "code",
   "execution_count": 523,
   "id": "36563989-ea99-4e05-84d4-7b7f4ef87a90",
   "metadata": {},
   "outputs": [
    {
     "data": {
      "image/png": "[encoded data removed]",
      "text/plain": [
       "<Figure size 432x288 with 1 Axes>"
      ]
     },
     "metadata": {},
     "output_type": "display_data"
    }
   ],
   "source": [
    "labels = ['Clothing','Cosmetics','Food & Beverage','Toys','Shoes','Souvenir','Technology','Books']\n",
    "sizes = [data['category'].value_counts()[0],data['category'].value_counts()[1],data['category'].value_counts()[2],data['category'].value_counts()[3],data['category'].value_counts()[4],data['category'].value_counts()[5],data['category'].value_counts()[6],data['category'].value_counts()[7]]\n",
    "colors=['#fbf8cc','#fde4cf','#ffcfd2','#f1c0e8','#cfbaf0','#a3c4f3','#90dbf4','#8eecf5','#98f5e1','#b9fbc0']\n",
    "fig1, ax1 = plt.subplots()\n",
    "ax1.pie(sizes, labels=labels, autopct='%1.2f%%',\n",
    "        startangle=90, colors=colors)\n",
    "ax1.axis('equal')\n",
    "plt.show()"
   ]
  },
  {
   "cell_type": "code",
   "execution_count": 524,
   "id": "fc3b8bcc",
   "metadata": {},
   "outputs": [
    {
     "data": {
      "text/plain": [
       "<AxesSubplot: xlabel='category'>"
      ]
     },
     "execution_count": 524,
     "metadata": {},
     "output_type": "execute_result"
    },
    {
     "data": {
      "image/png": "[encoded data removed]",
      "text/plain": [
       "<Figure size 432x288 with 1 Axes>"
      ]
     },
     "metadata": {
      "needs_background": "light"
     },
     "output_type": "display_data"
    }
   ],
   "source": [
    "category_mean = data.groupby('category')['Total_payment/TL'].mean()\n",
    "category_mean.plot(kind='bar')\n"
   ]
  },
  {
   "attachments": {},
   "cell_type": "markdown",
   "id": "6caa816c",
   "metadata": {},
   "source": [
    "Nota-se que o preço médio gasto por categoria bem diferente da quantidade de compras de cada categoria, com tecnologia e sapatos tendo um ticket médio bem maior que comparado com os demais."
   ]
  },
  {
   "cell_type": "code",
   "execution_count": 525,
   "id": "14b53177",
   "metadata": {},
   "outputs": [
    {
     "data": {
      "text/plain": [
       "<AxesSubplot: xlabel='category'>"
      ]
     },
     "execution_count": 525,
     "metadata": {},
     "output_type": "execute_result"
    },
    {
     "data": {
      "image/png": "[encoded data removed]",
      "text/plain": [
       "<Figure size 432x288 with 1 Axes>"
      ]
     },
     "metadata": {
      "needs_background": "light"
     },
     "output_type": "display_data"
    }
   ],
   "source": [
    "total_revenue_category = data.groupby('category')['Total_payment/TL'].sum()\n",
    "\n",
    "total_revenue_category.plot(kind='bar')\n"
   ]
  },
  {
   "attachments": {},
   "cell_type": "markdown",
   "id": "42da27fe",
   "metadata": {},
   "source": [
    "Analisando os gráficos acima, é importante notar que mesmo que cada pessoa gaste menos por compra em roupas, o total gasto em roupas é o maior de todos, com quase o dobro de diferença para o segundo colocado que seria tênios. Outra coisa importante é que pelo ticket médio expressivo de tênis e tecnologia, mesmo eles possuindo, respectivamente 10.09% e 5.02% do volume de vental eles ainda tem um lucro maior que as outras categorias com maior volume."
   ]
  },
  {
   "attachments": {},
   "cell_type": "markdown",
   "id": "e48be0d4-5a55-4bb9-bdeb-0fd4b7865a64",
   "metadata": {},
   "source": [
    "##### Gender:"
   ]
  },
  {
   "cell_type": "code",
   "execution_count": 526,
   "id": "50ecb921-d452-4d4c-b07d-49da0d606e9f",
   "metadata": {},
   "outputs": [
    {
     "data": {
      "image/png": "[encoded data removed]",
      "text/plain": [
       "<Figure size 576x576 with 1 Axes>"
      ]
     },
     "metadata": {},
     "output_type": "display_data"
    }
   ],
   "source": [
    "data['gender'].value_counts().plot(kind='pie', subplots=True, autopct='%1.2f', figsize=(8,8), title='Gender distribution', colors = ['m', 'blue'])\n",
    "plt.show()"
   ]
  },
  {
   "cell_type": "code",
   "execution_count": 527,
   "id": "22200fc4",
   "metadata": {},
   "outputs": [
    {
     "name": "stdout",
     "output_type": "stream",
     "text": [
      "Média de pagamento dos homens:  2534.0502371482175\n",
      "Média de pagamento das mulheres:  2525.2536232809925\n",
      "Diferença de gastos:  8.796613867225005\n"
     ]
    }
   ],
   "source": [
    "homem = data.loc[data['gender'] == 'Male']\n",
    "mulher =  data.loc[data['gender'] == 'Female']\n",
    "\n",
    "mean_payment_homem = homem['Total_payment/TL'].mean()\n",
    "mean_payment_mulher = mulher['Total_payment/TL'].mean()\n",
    "diferenca_gastos = abs(mean_payment_mulher - mean_payment_homem)\n",
    "\n",
    "print('Média de pagamento dos homens: ', mean_payment_homem)\n",
    "print('Média de pagamento das mulheres: ', mean_payment_mulher)\n",
    "print('Diferença de gastos: ', diferenca_gastos)"
   ]
  },
  {
   "attachments": {},
   "cell_type": "markdown",
   "id": "7128a4cc",
   "metadata": {},
   "source": [
    "Mesmo com a maioria das compras sendo realizadas por mulheres, com quase 60% das vendas, o gasto médio de cada gênero é igual."
   ]
  },
  {
   "cell_type": "code",
   "execution_count": 528,
   "id": "c6439bfe",
   "metadata": {},
   "outputs": [],
   "source": [
    "gasto_categoria_homem = homem.groupby('category')['Total_payment/TL'].mean()\n",
    "gasto_categoria_mulher = mulher.groupby('category')['Total_payment/TL'].mean()\n",
    "\n",
    "gastos_categoria = pd.concat([gasto_categoria_homem, gasto_categoria_mulher], axis=1)\n",
    "gastos_categoria.columns = ['Homem', 'Mulher']\n",
    "gastos_categoria['diff_spent'] = gastos_categoria['Homem'] - gastos_categoria['Mulher']\n",
    "\n"
   ]
  },
  {
   "cell_type": "code",
   "execution_count": 529,
   "id": "2a63cb43",
   "metadata": {},
   "outputs": [
    {
     "data": {
      "text/html": [
       "<div>\n",
       "<style scoped>\n",
       "    .dataframe tbody tr th:only-of-type {\n",
       "        vertical-align: middle;\n",
       "    }\n",
       "\n",
       "    .dataframe tbody tr th {\n",
       "        vertical-align: top;\n",
       "    }\n",
       "\n",
       "    .dataframe thead th {\n",
       "        text-align: right;\n",
       "    }\n",
       "</style>\n",
       "<table border=\"1\" class=\"dataframe\">\n",
       "  <thead>\n",
       "    <tr style=\"text-align: right;\">\n",
       "      <th></th>\n",
       "      <th>Homem</th>\n",
       "      <th>Mulher</th>\n",
       "      <th>diff_spent</th>\n",
       "    </tr>\n",
       "    <tr>\n",
       "      <th>category</th>\n",
       "      <th></th>\n",
       "      <th></th>\n",
       "      <th></th>\n",
       "    </tr>\n",
       "  </thead>\n",
       "  <tbody>\n",
       "    <tr>\n",
       "      <th>Books</th>\n",
       "      <td>166.379855</td>\n",
       "      <td>168.380833</td>\n",
       "      <td>-2.000977</td>\n",
       "    </tr>\n",
       "    <tr>\n",
       "      <th>Clothing</th>\n",
       "      <td>3306.475999</td>\n",
       "      <td>3304.846775</td>\n",
       "      <td>1.629223</td>\n",
       "    </tr>\n",
       "    <tr>\n",
       "      <th>Cosmetics</th>\n",
       "      <td>452.312985</td>\n",
       "      <td>448.376245</td>\n",
       "      <td>3.936740</td>\n",
       "    </tr>\n",
       "    <tr>\n",
       "      <th>Food &amp; Beverage</th>\n",
       "      <td>57.637718</td>\n",
       "      <td>57.396933</td>\n",
       "      <td>0.240784</td>\n",
       "    </tr>\n",
       "    <tr>\n",
       "      <th>Shoes</th>\n",
       "      <td>6670.342801</td>\n",
       "      <td>6607.200821</td>\n",
       "      <td>63.141979</td>\n",
       "    </tr>\n",
       "    <tr>\n",
       "      <th>Souvenir</th>\n",
       "      <td>127.627371</td>\n",
       "      <td>126.903281</td>\n",
       "      <td>0.724090</td>\n",
       "    </tr>\n",
       "    <tr>\n",
       "      <th>Technology</th>\n",
       "      <td>11509.875931</td>\n",
       "      <td>11630.308621</td>\n",
       "      <td>-120.432691</td>\n",
       "    </tr>\n",
       "    <tr>\n",
       "      <th>Toys</th>\n",
       "      <td>390.899590</td>\n",
       "      <td>397.049479</td>\n",
       "      <td>-6.149889</td>\n",
       "    </tr>\n",
       "  </tbody>\n",
       "</table>\n",
       "</div>"
      ],
      "text/plain": [
       "                        Homem        Mulher  diff_spent\n",
       "category                                               \n",
       "Books              166.379855    168.380833   -2.000977\n",
       "Clothing          3306.475999   3304.846775    1.629223\n",
       "Cosmetics          452.312985    448.376245    3.936740\n",
       "Food & Beverage     57.637718     57.396933    0.240784\n",
       "Shoes             6670.342801   6607.200821   63.141979\n",
       "Souvenir           127.627371    126.903281    0.724090\n",
       "Technology       11509.875931  11630.308621 -120.432691\n",
       "Toys               390.899590    397.049479   -6.149889"
      ]
     },
     "execution_count": 529,
     "metadata": {},
     "output_type": "execute_result"
    }
   ],
   "source": [
    "gastos_categoria"
   ]
  },
  {
   "attachments": {},
   "cell_type": "markdown",
   "id": "fe3c9307",
   "metadata": {},
   "source": [
    "Nota-se que a diferença de gastos médios dos gêneros é quase irrelevante, sendo assim iremos considerar que o gênero não faz realmente diferença com quanto cada pessoa irá gastar em um shopping."
   ]
  },
  {
   "attachments": {},
   "cell_type": "markdown",
   "id": "e3c0a366-41a7-40ee-b611-8f967852ec5b",
   "metadata": {},
   "source": [
    "### Payment method:"
   ]
  },
  {
   "cell_type": "code",
   "execution_count": 530,
   "id": "2100311d-a522-4ca5-bd2c-d37279ccd578",
   "metadata": {},
   "outputs": [
    {
     "data": {
      "text/plain": [
       "Cash           44447\n",
       "Credit Card    34931\n",
       "Debit Card     20079\n",
       "Name: payment_method, dtype: int64"
      ]
     },
     "execution_count": 530,
     "metadata": {},
     "output_type": "execute_result"
    }
   ],
   "source": [
    "data['payment_method'] = data['payment_method'].astype('category')\n",
    "data['payment_method'].value_counts()"
   ]
  },
  {
   "cell_type": "code",
   "execution_count": 531,
   "id": "734eefff-5d06-43b4-ac94-833de307556a",
   "metadata": {},
   "outputs": [
    {
     "data": {
      "image/png": "[encoded data removed]",
      "text/plain": [
       "<Figure size 432x288 with 1 Axes>"
      ]
     },
     "metadata": {},
     "output_type": "display_data"
    }
   ],
   "source": [
    "labels = 'Cash', 'Credit Card', 'Debit Card'\n",
    "sizes = [data['payment_method'].value_counts()[0],data['payment_method'].value_counts()[1],data['payment_method'].value_counts()[2]]\n",
    "colors = ['#F4796B','#A9DEF9','#DDFCAD']\n",
    "fig1, ax1 = plt.subplots()\n",
    "ax1.pie(sizes, labels=labels, autopct='%1.1f%%',\n",
    "        startangle=90, colors=colors)\n",
    "ax1.axis('equal')\n",
    "plt.show()"
   ]
  },
  {
   "cell_type": "code",
   "execution_count": 532,
   "id": "8767a9b1",
   "metadata": {},
   "outputs": [
    {
     "data": {
      "text/plain": [
       "array([<AxesSubplot: ylabel='payment_method'>], dtype=object)"
      ]
     },
     "execution_count": 532,
     "metadata": {},
     "output_type": "execute_result"
    },
    {
     "data": {
      "image/png": "[encoded data removed]",
      "text/plain": [
       "<Figure size 576x576 with 1 Axes>"
      ]
     },
     "metadata": {},
     "output_type": "display_data"
    }
   ],
   "source": [
    "homem['payment_method'].value_counts().plot(kind='pie', subplots=True, autopct='%1.2f', figsize=(8,8), title='payment distribution')\n"
   ]
  },
  {
   "cell_type": "code",
   "execution_count": 533,
   "id": "052245cd",
   "metadata": {},
   "outputs": [
    {
     "data": {
      "text/plain": [
       "array([<AxesSubplot: ylabel='payment_method'>], dtype=object)"
      ]
     },
     "execution_count": 533,
     "metadata": {},
     "output_type": "execute_result"
    },
    {
     "data": {
      "image/png": "[encoded data removed]",
      "text/plain": [
       "<Figure size 576x576 with 1 Axes>"
      ]
     },
     "metadata": {},
     "output_type": "display_data"
    }
   ],
   "source": [
    "mulher['payment_method'].value_counts().plot(kind='pie', subplots=True, autopct='%1.2f', figsize=(8,8), title='payment distribution')"
   ]
  },
  {
   "attachments": {},
   "cell_type": "markdown",
   "id": "e9ca1300",
   "metadata": {},
   "source": [
    "A diferença de pagamentos por gêneros também é irrelevante pelo mostrado nos gráficos acima."
   ]
  },
  {
   "attachments": {},
   "cell_type": "markdown",
   "id": "063860a8",
   "metadata": {},
   "source": [
    "### Malls"
   ]
  },
  {
   "cell_type": "code",
   "execution_count": 534,
   "id": "3257d352-b1f2-407a-84dc-513d9d835f4a",
   "metadata": {},
   "outputs": [
    {
     "data": {
      "text/plain": [
       "Mall of Istanbul     19943\n",
       "Kanyon               19823\n",
       "Metrocity            15011\n",
       "Metropol AVM         10161\n",
       "Istinye Park          9781\n",
       "Zorlu Center          5075\n",
       "Cevahir AVM           4991\n",
       "Forum Istanbul        4947\n",
       "Viaport Outlet        4914\n",
       "Emaar Square Mall     4811\n",
       "Name: shopping_mall, dtype: int64"
      ]
     },
     "execution_count": 534,
     "metadata": {},
     "output_type": "execute_result"
    }
   ],
   "source": [
    "data['shopping_mall'] = data['shopping_mall'].astype('category')\n",
    "data['shopping_mall'].value_counts()"
   ]
  },
  {
   "cell_type": "code",
   "execution_count": 535,
   "id": "299cf6c6-1fb7-4e83-aa81-af67afecf5f3",
   "metadata": {},
   "outputs": [
    {
     "data": {
      "image/png": "[encoded data removed]",
      "text/plain": [
       "<Figure size 432x288 with 1 Axes>"
      ]
     },
     "metadata": {
      "needs_background": "light"
     },
     "output_type": "display_data"
    }
   ],
   "source": [
    "fig = plt.figure()\n",
    "ax = fig.add_axes([0,0,2,1])\n",
    "colors=['#fbf8cc','#fde4cf','#ffcfd2','#f1c0e8','#cfbaf0','#a3c4f3','#90dbf4','#8eecf5','#98f5e1','#b9fbc0']\n",
    "titles = ['Mall of Istanbul', 'Kanyon','Metrocity','Metropol AVM','Istinye Park','Zorlu Center','Cevahir AVM','Forum Istanbul','Viaport Outlet','Emaar Square Mall']\n",
    "qnt = [data['shopping_mall'].value_counts()[0],data['shopping_mall'].value_counts()[1],data['shopping_mall'].value_counts()[2],data['shopping_mall'].value_counts()[3],data['shopping_mall'].value_counts()[4],data['shopping_mall'].value_counts()[5],data['shopping_mall'].value_counts()[6],data['shopping_mall'].value_counts()[7],data['shopping_mall'].value_counts()[8],data['shopping_mall'].value_counts()[9]]\n",
    "ax.bar(titles,qnt, color=colors, width=0.5)\n",
    "ax.set_facecolor(\"black\")\n",
    "plt.grid(axis = 'y')\n",
    "plt.title('Shopping Mall')\n",
    "plt.show()"
   ]
  },
  {
   "attachments": {},
   "cell_type": "markdown",
   "id": "557550c0-d182-438f-8f3e-c0531d4b6398",
   "metadata": {},
   "source": [
    "##### Date:"
   ]
  },
  {
   "cell_type": "code",
   "execution_count": 536,
   "id": "fbc0cf10",
   "metadata": {},
   "outputs": [],
   "source": [
    "data_date = pd.read_csv(filename)"
   ]
  },
  {
   "cell_type": "code",
   "execution_count": 537,
   "id": "f4983ed1-d7c6-4e42-a361-5ed8aa92d266",
   "metadata": {},
   "outputs": [
    {
     "data": {
      "image/png": "[encoded data removed]",
      "text/plain": [
       "<Figure size 432x288 with 1 Axes>"
      ]
     },
     "metadata": {
      "needs_background": "light"
     },
     "output_type": "display_data"
    },
    {
     "data": {
      "image/png": "[encoded data removed]",
      "text/plain": [
       "<Figure size 432x288 with 1 Axes>"
      ]
     },
     "metadata": {
      "needs_background": "light"
     },
     "output_type": "display_data"
    }
   ],
   "source": [
    "data_date['quantity'] = data_date['quantity'].astype('category')\n",
    "data_date['price'] = data_date['price'].astype('category')\n",
    "\n",
    "january,february,march,april,may,june,july,august,september,october,november,december = 0,0,0,0,0,0,0,0,0,0,0,0\n",
    "januaryAmount,februaryAmount,marchAmount,aprilAmount,mayAmount,juneAmount,julyAmount,augustAmount,septemberAmount,octoberAmount,novemberAmount,decemberAmount = 0,0,0,0,0,0,0,0,0,0,0,0\n",
    "for i in range (len(data_date)):\n",
    "    dado = data_date['invoice_date'].get(i)\n",
    "    dado = dado.split(\"/\")\n",
    "    if dado[1] == '1':\n",
    "        januaryAmount += data_date['price'].get(i)*data_date['quantity'].get(i)\n",
    "        january +=1\n",
    "    elif dado[1] == '2':\n",
    "        februaryAmount += data_date['price'].get(i)*data_date['quantity'].get(i)\n",
    "        february += 1\n",
    "    elif dado[1] == '3':\n",
    "        marchAmount += data_date['price'].get(i)*data_date['quantity'].get(i)\n",
    "        march +=1\n",
    "    elif dado[1] == '4':\n",
    "        aprilAmount += data_date['price'].get(i)*data_date['quantity'].get(i)\n",
    "        april +=1\n",
    "    elif dado[1] == '5':\n",
    "        mayAmount += data_date['price'].get(i)*data_date['quantity'].get(i)\n",
    "        may +=1\n",
    "    elif dado[1] == '6':\n",
    "        juneAmount += data_date['price'].get(i)*data_date['quantity'].get(i)\n",
    "        june +=1\n",
    "    elif dado[1] == '7':\n",
    "        julyAmount += data_date['price'].get(i)*data_date['quantity'].get(i)\n",
    "        july +=1\n",
    "    elif dado[1] == '8':\n",
    "        augustAmount += data_date['price'].get(i)*data_date['quantity'].get(i)\n",
    "        august +=1\n",
    "    elif dado[1] == '9':\n",
    "        septemberAmount += data_date['price'].get(i)*data_date['quantity'].get(i)\n",
    "        september +=1\n",
    "    elif dado[1] == '10':\n",
    "        octoberAmount += data_date['price'].get(i)*data_date['quantity'].get(i)\n",
    "        october +=1\n",
    "    elif dado[1] == '11':\n",
    "        novemberAmount += data_date['price'].get(i)*data_date['quantity'].get(i)\n",
    "        november +=1\n",
    "    elif dado[1] == '12':\n",
    "        decemberAmount +=data_date['price'].get(i)*data_date['quantity'].get(i)\n",
    "        december +=1\n",
    "\n",
    "\n",
    "\n",
    "colors=['#fbf8cc','#fde4cf','#ffcfd2','#f1c0e8','#cfbaf0','#a3c4f3','#90dbf4','#8eecf5','#98f5e1','#b9fbc0']\n",
    "titles = ['January', 'February','March','April','May','June','July','August','September','October', 'November','December']\n",
    "qnt = [january,february,march,april,may,june,july,august,september,october,november,december]\n",
    "qntAmount = [januaryAmount,februaryAmount,marchAmount,aprilAmount,mayAmount,juneAmount,julyAmount,augustAmount,septemberAmount,octoberAmount,novemberAmount,decemberAmount]\n",
    "\n",
    "fig = plt.figure()\n",
    "ax = fig.add_axes([0,0,2,1])\n",
    "ax.bar(titles,qnt, color=colors, width=0.5)\n",
    "plt.grid(axis = 'y')\n",
    "ax.set_facecolor(\"black\")\n",
    "plt.title('Purchases by month')\n",
    "\n",
    "\n",
    "fig2 = plt.figure()\n",
    "ax2 = fig2.add_axes([0,0,2,1])\n",
    "ax2.bar(titles,qntAmount, color=colors, width=0.5)\n",
    "ax2.set_facecolor(\"black\")\n",
    "plt.title('Amount gained on sales ($)')\n",
    "plt.grid(axis = 'y')\n",
    "\n",
    "plt.show()"
   ]
  },
  {
   "attachments": {},
   "cell_type": "markdown",
   "id": "b610b12c",
   "metadata": {},
   "source": [
    "Por fim, vamos fazer o heatmap para analisar se tem alguma outra variável quantitativa que precisamos tomar cuidado."
   ]
  },
  {
   "cell_type": "code",
   "execution_count": 538,
   "id": "6e163527",
   "metadata": {},
   "outputs": [
    {
     "name": "stderr",
     "output_type": "stream",
     "text": [
      "C:\\Users\\kenzo\\AppData\\Local\\Temp\\ipykernel_11204\\233374605.py:1: FutureWarning: The default value of numeric_only in DataFrame.corr is deprecated. In a future version, it will default to False. Select only valid columns or specify the value of numeric_only to silence this warning.\n",
      "  sns.heatmap(data.corr(), annot=True, cmap='crest');\n"
     ]
    },
    {
     "data": {
      "image/png": "[encoded data removed]",
      "text/plain": [
       "<Figure size 432x288 with 2 Axes>"
      ]
     },
     "metadata": {
      "needs_background": "light"
     },
     "output_type": "display_data"
    }
   ],
   "source": [
    "sns.heatmap(data.corr(), annot=True, cmap='crest');\n"
   ]
  },
  {
   "attachments": {},
   "cell_type": "markdown",
   "id": "c039af83",
   "metadata": {},
   "source": [
    "Obviamente o price tem alta correlação com o target(Total_payment/tl), já que ela é um produto dela"
   ]
  },
  {
   "attachments": {},
   "cell_type": "markdown",
   "id": "f4eb4fb8-a70b-4503-9ce9-1613317688fd",
   "metadata": {},
   "source": [
    "#### Treinando as variáveis:"
   ]
  },
  {
   "cell_type": "code",
   "execution_count": 539,
   "id": "97412260",
   "metadata": {},
   "outputs": [],
   "source": [
    "pagamento = pd.get_dummies(data['payment_method'],drop_first=False)\n",
    "data['Cash'] = pagamento['Cash']\n",
    "data['Credit Card'] = pagamento['Credit Card']\n",
    "data['Debit Card'] = pagamento['Debit Card']\n",
    "data = data.drop(columns=['payment_method'])"
   ]
  },
  {
   "cell_type": "code",
   "execution_count": 540,
   "id": "83caa590",
   "metadata": {},
   "outputs": [],
   "source": [
    "categoria = pd.get_dummies(data['category'],drop_first=False)\n",
    "data['Books'] = categoria['Books']\n",
    "data['Clothing'] = categoria['Clothing']\n",
    "data['Cosmetics'] = categoria['Cosmetics']\n",
    "data['Food & Beverage'] = categoria['Food & Beverage']\n",
    "data['Shoes'] = categoria['Shoes']\n",
    "data['Souvenir'] = categoria['Souvenir']\n",
    "data['Technology'] = categoria['Technology']\n",
    "data['Toys'] = categoria['Toys']\n",
    "data = data.drop(columns=['category'])"
   ]
  },
  {
   "cell_type": "code",
   "execution_count": 541,
   "id": "0c2a1d6b",
   "metadata": {},
   "outputs": [],
   "source": [
    "shopping = pd.get_dummies(data['shopping_mall'],drop_first=False)\n",
    "data['Cevahir AVM'] = shopping['Cevahir AVM']\n",
    "data['Emaar Square Mall'] = shopping['Emaar Square Mall']\n",
    "data['Forum Istanbul'] = shopping['Forum Istanbul']\n",
    "data['Istinye Park'] = shopping['Istinye Park']\n",
    "data['Kanyon'] = shopping['Kanyon']\n",
    "data['Mall of Istanbul'] = shopping['Mall of Istanbul']\n",
    "data['Metrocity'] = shopping['Metrocity']\n",
    "data['Metropol AVM'] = shopping['Metropol AVM']\n",
    "data['Viaport Outlet'] = shopping['Viaport Outlet']\n",
    "data['Zorlu Center'] = shopping['Zorlu Center']\n",
    "data = data.drop(columns=['shopping_mall'])"
   ]
  },
  {
   "attachments": {},
   "cell_type": "markdown",
   "id": "54f08fb7",
   "metadata": {},
   "source": [
    "Vamos dropar algumas colunas que sabemos que não fazem diferença para nossa análise:\n"
   ]
  },
  {
   "attachments": {},
   "cell_type": "markdown",
   "id": "c5725d25",
   "metadata": {},
   "source": [
    "Como já analisamos os meses e dias, irei dropa-los já que temos eles comos númerais. Além disso também notamos que a diferença entre dias não é muito importante para o contexto"
   ]
  },
  {
   "cell_type": "code",
   "execution_count": 542,
   "id": "d02f4310",
   "metadata": {},
   "outputs": [],
   "source": [
    "data.drop(columns = ['Day'], inplace=True)\n",
    "data.drop(columns = ['Month'], inplace=True)"
   ]
  },
  {
   "cell_type": "code",
   "execution_count": 543,
   "id": "006a1448",
   "metadata": {},
   "outputs": [],
   "source": [
    "\n",
    "data.drop(columns = ['customer_id'], inplace=True)\n",
    "data.drop(columns = ['price'], inplace=True)\n",
    "data.drop(columns = ['invoice_date'], inplace=True)\n",
    "data.drop(columns = ['gender'], inplace=True)\n",
    "data.drop(columns = ['age'], inplace=True)\n",
    "data.drop(columns = ['invoice_no'], inplace=True)"
   ]
  },
  {
   "cell_type": "code",
   "execution_count": 544,
   "id": "fa1afbdc",
   "metadata": {},
   "outputs": [],
   "source": [
    "age_group = pd.get_dummies(data['age_group'],drop_first=False)\n",
    "data['18-30'] = age_group['18-30']\n",
    "data['31-42'] = age_group['31-42']\n",
    "data['43-55'] = age_group['43-55']\n",
    "data['55+'] = age_group['55+']\n",
    "data.drop(columns = ['age_group'], inplace=True)"
   ]
  },
  {
   "attachments": {},
   "cell_type": "markdown",
   "id": "9a3c0625",
   "metadata": {},
   "source": [
    "Agora que dropamos todos os valores que não faziam diferença como gênero que o ticket médio era parecido com os dois, e transformamos as variáveis que precisavam em dummies, podemos utilizar um algoritmo como o Random Forest para tentar prever o Total_payment do usuário."
   ]
  },
  {
   "cell_type": "code",
   "execution_count": 545,
   "id": "a3f2a51b",
   "metadata": {},
   "outputs": [
    {
     "data": {
      "text/plain": [
       "Index(['quantity', 'Total_payment/TL', 'Year', 'MonthNo', 'dia_de_semana',\n",
       "       'Cash', 'Credit Card', 'Debit Card', 'Books', 'Clothing', 'Cosmetics',\n",
       "       'Food & Beverage', 'Shoes', 'Souvenir', 'Technology', 'Toys',\n",
       "       'Cevahir AVM', 'Emaar Square Mall', 'Forum Istanbul', 'Istinye Park',\n",
       "       'Kanyon', 'Mall of Istanbul', 'Metrocity', 'Metropol AVM',\n",
       "       'Viaport Outlet', 'Zorlu Center', '18-30', '31-42', '43-55', '55+'],\n",
       "      dtype='object')"
      ]
     },
     "execution_count": 545,
     "metadata": {},
     "output_type": "execute_result"
    }
   ],
   "source": [
    "data.columns"
   ]
  },
  {
   "cell_type": "code",
   "execution_count": 546,
   "id": "efbb8051",
   "metadata": {},
   "outputs": [
    {
     "data": {
      "text/html": [
       "<div>\n",
       "<style scoped>\n",
       "    .dataframe tbody tr th:only-of-type {\n",
       "        vertical-align: middle;\n",
       "    }\n",
       "\n",
       "    .dataframe tbody tr th {\n",
       "        vertical-align: top;\n",
       "    }\n",
       "\n",
       "    .dataframe thead th {\n",
       "        text-align: right;\n",
       "    }\n",
       "</style>\n",
       "<table border=\"1\" class=\"dataframe\">\n",
       "  <thead>\n",
       "    <tr style=\"text-align: right;\">\n",
       "      <th></th>\n",
       "    </tr>\n",
       "  </thead>\n",
       "  <tbody>\n",
       "    <tr>\n",
       "      <th>0</th>\n",
       "    </tr>\n",
       "    <tr>\n",
       "      <th>1</th>\n",
       "    </tr>\n",
       "    <tr>\n",
       "      <th>2</th>\n",
       "    </tr>\n",
       "    <tr>\n",
       "      <th>3</th>\n",
       "    </tr>\n",
       "    <tr>\n",
       "      <th>4</th>\n",
       "    </tr>\n",
       "    <tr>\n",
       "      <th>...</th>\n",
       "    </tr>\n",
       "    <tr>\n",
       "      <th>99452</th>\n",
       "    </tr>\n",
       "    <tr>\n",
       "      <th>99453</th>\n",
       "    </tr>\n",
       "    <tr>\n",
       "      <th>99454</th>\n",
       "    </tr>\n",
       "    <tr>\n",
       "      <th>99455</th>\n",
       "    </tr>\n",
       "    <tr>\n",
       "      <th>99456</th>\n",
       "    </tr>\n",
       "  </tbody>\n",
       "</table>\n",
       "<p>99457 rows × 0 columns</p>\n",
       "</div>"
      ],
      "text/plain": [
       "Empty DataFrame\n",
       "Columns: []\n",
       "Index: [0, 1, 2, 3, 4, 5, 6, 7, 8, 9, 10, 11, 12, 13, 14, 15, 16, 17, 18, 19, 20, 21, 22, 23, 24, 25, 26, 27, 28, 29, 30, 31, 32, 33, 34, 35, 36, 37, 38, 39, 40, 41, 42, 43, 44, 45, 46, 47, 48, 49, 50, 51, 52, 53, 54, 55, 56, 57, 58, 59, 60, 61, 62, 63, 64, 65, 66, 67, 68, 69, 70, 71, 72, 73, 74, 75, 76, 77, 78, 79, 80, 81, 82, 83, 84, 85, 86, 87, 88, 89, 90, 91, 92, 93, 94, 95, 96, 97, 98, 99, ...]\n",
       "\n",
       "[99457 rows x 0 columns]"
      ]
     },
     "execution_count": 546,
     "metadata": {},
     "output_type": "execute_result"
    }
   ],
   "source": [
    "X = data.drop(columns=['Total_payment/TL']).copy().values\n",
    "y = data['Total_payment/TL'].copy().values\n",
    "data.select_dtypes('category')"
   ]
  },
  {
   "cell_type": "code",
   "execution_count": 547,
   "id": "e89cd970",
   "metadata": {},
   "outputs": [
    {
     "data": {
      "text/plain": [
       "RandomForestRegressor()"
      ]
     },
     "execution_count": 547,
     "metadata": {},
     "output_type": "execute_result"
    }
   ],
   "source": [
    "from sklearn.ensemble import RandomForestRegressor\n",
    "\n",
    "\n",
    "X_train, X_test, y_train, y_test = train_test_split(X, y, test_size=0.2, random_state=42, shuffle=True)\n",
    "\n",
    "rf = RandomForestRegressor()\n",
    "random_forest = rf.fit(X_train,y_train)\n",
    "random_forest"
   ]
  },
  {
   "cell_type": "code",
   "execution_count": 548,
   "id": "abcbe9aa",
   "metadata": {},
   "outputs": [
    {
     "data": {
      "text/plain": [
       "1.7110511193530938e-11"
      ]
     },
     "execution_count": 548,
     "metadata": {},
     "output_type": "execute_result"
    }
   ],
   "source": [
    "y_pred = random_forest.predict(X_test)\n",
    "\n",
    "RMSE = np.sqrt(mean_squared_error(y_test, y_pred))\n",
    "RMSE"
   ]
  },
  {
   "cell_type": "code",
   "execution_count": 549,
   "metadata": {},
   "outputs": [
    {
     "name": "stdout",
     "output_type": "stream",
     "text": [
      "R2 score 1.0\n",
      "MAE 8.226138094093648e-12\n"
     ]
    }
   ],
   "source": [
    "print('R2 score',r2_score(y_test,y_pred))\n",
    "print('MAE',mean_absolute_error(y_test,y_pred))"
   ]
  },
  {
   "cell_type": "code",
   "execution_count": 550,
   "id": "96054aab",
   "metadata": {},
   "outputs": [
    {
     "name": "stdout",
     "output_type": "stream",
     "text": [
      "r2 score: 1.0\n"
     ]
    }
   ],
   "source": [
    "R2_score_rf = r2_score(y_test, y_pred)\n",
    "print('r2 score:', R2_score_rf) "
   ]
  },
  {
   "attachments": {},
   "cell_type": "markdown",
   "id": "79876143",
   "metadata": {},
   "source": [
    "A primeira opção que temos é utilizar o Random Forest para prever o valor total que cada usuário gastou, entretanto parece que o nosso modelo não está muito bom, já que o nosso r2 está com o melhor valor possível, isso pode significar um overfitting, o que diz que nosso modelo talvez não consigo prever novas compras, se tornando inútil para o nosso contexto."
   ]
  },
  {
   "attachments": {},
   "cell_type": "markdown",
   "id": "d7e9b5ba",
   "metadata": {},
   "source": [
    "Vamos utilizar uma decision tree para ser nosso modelo"
   ]
  },
  {
   "cell_type": "code",
   "execution_count": 551,
   "id": "9bde3f79",
   "metadata": {},
   "outputs": [],
   "source": [
    "from sklearn.tree import DecisionTreeRegressor\n",
    "\n",
    "\n",
    "Xtrain, Xtest, ytrain, ytest = train_test_split(X, y, test_size=0.1, random_state=42, shuffle=True)\n",
    "\n",
    "dtr=DecisionTreeRegressor(max_depth=8)\n",
    "dtr.fit(Xtrain, ytrain)\n",
    "dtr_pred=dtr.predict(Xtest)"
   ]
  },
  {
   "cell_type": "code",
   "execution_count": null,
   "id": "97f83b81",
   "metadata": {},
   "outputs": [],
   "source": []
  },
  {
   "cell_type": "code",
   "execution_count": 552,
   "id": "0ba455ef",
   "metadata": {},
   "outputs": [
    {
     "name": "stdout",
     "output_type": "stream",
     "text": [
      "R2 score 0.9999911748251882\n",
      "MAE 4.515987759957675\n"
     ]
    }
   ],
   "source": [
    "print('R2 score',r2_score(ytest,dtr_pred))\n",
    "print('MAE',mean_absolute_error(ytest,dtr_pred))"
   ]
  },
  {
   "attachments": {},
   "cell_type": "markdown",
   "id": "4fa63833",
   "metadata": {},
   "source": [
    "### Conclusão:\n",
    "\n",
    "Acreditamos que o nosso modelo pode ser um bom meio da empresa conhecer mais sobre o comportamento de nossos clientes e que possibilitará empresas de marketing a fazerem campanhas mais eficientes para cada tipo de cliente, entretanto, os modelos possivelmente ter acontecido um overfitting seja um problema para prever futuramente os gastos que cada cliente fará. Além disso foi possível observar informações bem interessantes durante a análise exploratória, como que mesmo que as mulheres comprem mais vezes em shopping, os homens gastam em média o mesmo valor que elas."
   ]
  },
  {
   "attachments": {},
   "cell_type": "markdown",
   "id": "4a3a807e",
   "metadata": {},
   "source": []
  }
 ],
 "metadata": {
  "kernelspec": {
   "display_name": "Python 3 (ipykernel)",
   "language": "python",
   "name": "python3"
  },
  "language_info": {
   "codemirror_mode": {
    "name": "ipython",
    "version": 3
   },
   "file_extension": ".py",
   "mimetype": "text/x-python",
   "name": "python",
   "nbconvert_exporter": "python",
   "pygments_lexer": "ipython3",
   "version": "3.9.7"
  }
 },
 "nbformat": 4,
 "nbformat_minor": 5
}
